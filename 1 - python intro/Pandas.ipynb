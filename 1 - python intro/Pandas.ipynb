{
 "cells": [
  {
   "cell_type": "markdown",
   "metadata": {
    "_cell_guid": "daffadeb-f0c8-4a27-b62c-aea950edc588",
    "_uuid": "e0e294bdfc0df9aa8f58fb8b6ae828c7ae062ccd"
   },
   "source": [
    "This guide comes directly from the [10 Minute Guide to Pandas](https://pandas.pydata.org/pandas-docs/stable/10min.html) on the Pandas official website. I ported it into this kernel to make the code more accessible. This guide is geared towards beginners who haven't used Pandas before. It has great examples on how powerful Pandas can be. Enjoy!"
   ]
  },
  {
   "cell_type": "markdown",
   "metadata": {
    "_cell_guid": "da21b90d-98fc-483f-bf58-bd1dacf7027c",
    "_kg_hide-input": true,
    "_uuid": "90fb4599b093efccc95cacb6db2da95bcd695545"
   },
   "source": [
    "### This is a short introduction to pandas, geared mainly for new users. You can see more complex recipes in the [Cookbook](https://pandas.pydata.org/pandas-docs/stable/cookbook.html#cookbook)"
   ]
  },
  {
   "cell_type": "code",
   "execution_count": 1,
   "metadata": {
    "_cell_guid": "f26dff57-ef68-4cbf-86f1-b027cc75d6c1",
    "_uuid": "e0a227d03ea6a2d1995268f8cea078357eb596d4"
   },
   "outputs": [],
   "source": [
    "import pandas as pd\n",
    "import numpy as np\n",
    "import matplotlib.pyplot as plt"
   ]
  },
  {
   "cell_type": "markdown",
   "metadata": {
    "_cell_guid": "0c4de500-e940-428a-a624-d72cf69055ae",
    "_uuid": "666bd202e06457942b464ff348f49256eb40cb10"
   },
   "source": [
    "# Object Creation\n",
    "See the [Data Structure Intro section](Data Structure Intro section). Creating a Series by passing a list of values, letting pandas create a default integer index:"
   ]
  },
  {
   "cell_type": "code",
   "execution_count": 2,
   "metadata": {
    "_cell_guid": "684d2ff9-f491-4384-b51d-d89a545f40a6",
    "_uuid": "3d527ebba36697ffcf0b5d46ef717172edcb0539"
   },
   "outputs": [
    {
     "data": {
      "text/plain": [
       "0    1.0\n",
       "1    3.0\n",
       "2    5.0\n",
       "3    NaN\n",
       "4    6.0\n",
       "5    8.0\n",
       "dtype: float64"
      ]
     },
     "execution_count": 2,
     "metadata": {},
     "output_type": "execute_result"
    }
   ],
   "source": [
    "s = pd.Series([1,3,5,np.nan,6,8])\n",
    "s"
   ]
  },
  {
   "cell_type": "markdown",
   "metadata": {
    "_cell_guid": "a34354da-ed7a-4b6c-b29a-371b98778256",
    "_uuid": "762a9ec540f47f1aeba21b5a7deb1cf51a0994eb"
   },
   "source": [
    "Creating a [DataFrame](https://pandas.pydata.org/pandas-docs/stable/generated/pandas.DataFrame.html#pandas.DataFrame) by passing a numpy array, with a datetime index and labeled columns:"
   ]
  },
  {
   "cell_type": "code",
   "execution_count": 3,
   "metadata": {
    "_cell_guid": "1f57494c-5ec2-49a4-adb4-4843d5c39c62",
    "_uuid": "50b786a38ed5b11ec29c308d29599623c26f0f23"
   },
   "outputs": [
    {
     "data": {
      "text/plain": [
       "DatetimeIndex(['2014-11-01', '2014-11-02', '2014-11-03', '2014-11-04',\n",
       "               '2014-11-05', '2014-11-06'],\n",
       "              dtype='datetime64[ns]', freq='D')"
      ]
     },
     "execution_count": 3,
     "metadata": {},
     "output_type": "execute_result"
    }
   ],
   "source": [
    "dates = pd.date_range('20141101', periods=6)\n",
    "dates"
   ]
  },
  {
   "cell_type": "code",
   "execution_count": 4,
   "metadata": {
    "_cell_guid": "e29399aa-3818-4dd8-bc3b-634aa5c3fe78",
    "_uuid": "b21c8f9e3992c18eb839851aaa6ad057654e9082"
   },
   "outputs": [
    {
     "data": {
      "text/html": [
       "<div>\n",
       "<style scoped>\n",
       "    .dataframe tbody tr th:only-of-type {\n",
       "        vertical-align: middle;\n",
       "    }\n",
       "\n",
       "    .dataframe tbody tr th {\n",
       "        vertical-align: top;\n",
       "    }\n",
       "\n",
       "    .dataframe thead th {\n",
       "        text-align: right;\n",
       "    }\n",
       "</style>\n",
       "<table border=\"1\" class=\"dataframe\">\n",
       "  <thead>\n",
       "    <tr style=\"text-align: right;\">\n",
       "      <th></th>\n",
       "      <th>one</th>\n",
       "      <th>two</th>\n",
       "      <th>three</th>\n",
       "      <th>four</th>\n",
       "    </tr>\n",
       "  </thead>\n",
       "  <tbody>\n",
       "    <tr>\n",
       "      <th>2014-11-01</th>\n",
       "      <td>-1.098893</td>\n",
       "      <td>-1.177668</td>\n",
       "      <td>0.910219</td>\n",
       "      <td>-1.143961</td>\n",
       "    </tr>\n",
       "    <tr>\n",
       "      <th>2014-11-02</th>\n",
       "      <td>2.418214</td>\n",
       "      <td>1.134130</td>\n",
       "      <td>0.567361</td>\n",
       "      <td>0.921225</td>\n",
       "    </tr>\n",
       "    <tr>\n",
       "      <th>2014-11-03</th>\n",
       "      <td>0.891612</td>\n",
       "      <td>1.293983</td>\n",
       "      <td>-0.836017</td>\n",
       "      <td>-1.487740</td>\n",
       "    </tr>\n",
       "    <tr>\n",
       "      <th>2014-11-04</th>\n",
       "      <td>1.107417</td>\n",
       "      <td>-0.111957</td>\n",
       "      <td>0.618144</td>\n",
       "      <td>-0.382438</td>\n",
       "    </tr>\n",
       "    <tr>\n",
       "      <th>2014-11-05</th>\n",
       "      <td>-0.272585</td>\n",
       "      <td>-0.948973</td>\n",
       "      <td>0.122929</td>\n",
       "      <td>-0.909909</td>\n",
       "    </tr>\n",
       "    <tr>\n",
       "      <th>2014-11-06</th>\n",
       "      <td>0.064267</td>\n",
       "      <td>1.262345</td>\n",
       "      <td>0.961092</td>\n",
       "      <td>1.683544</td>\n",
       "    </tr>\n",
       "  </tbody>\n",
       "</table>\n",
       "</div>"
      ],
      "text/plain": [
       "                 one       two     three      four\n",
       "2014-11-01 -1.098893 -1.177668  0.910219 -1.143961\n",
       "2014-11-02  2.418214  1.134130  0.567361  0.921225\n",
       "2014-11-03  0.891612  1.293983 -0.836017 -1.487740\n",
       "2014-11-04  1.107417 -0.111957  0.618144 -0.382438\n",
       "2014-11-05 -0.272585 -0.948973  0.122929 -0.909909\n",
       "2014-11-06  0.064267  1.262345  0.961092  1.683544"
      ]
     },
     "execution_count": 4,
     "metadata": {},
     "output_type": "execute_result"
    }
   ],
   "source": [
    "df = pd.DataFrame(np.random.randn(6,4), columns=['one','two','three','four'], index=dates)\n",
    "df"
   ]
  },
  {
   "cell_type": "markdown",
   "metadata": {
    "_cell_guid": "6622566b-e889-4589-88db-9e6ac53bda43",
    "_uuid": "886f7623a8e6ef893a83174796656aa7417c72be"
   },
   "source": [
    "Creating a DataFrame by passing a dict of objects that can be converted to series-like."
   ]
  },
  {
   "cell_type": "code",
   "execution_count": 5,
   "metadata": {
    "_cell_guid": "a36d23bb-aa78-4964-984f-1c0fef73c85b",
    "_uuid": "91c969a5e0dede5ed222df08fda0a19e7ecb6ba9"
   },
   "outputs": [
    {
     "data": {
      "text/html": [
       "<div>\n",
       "<style scoped>\n",
       "    .dataframe tbody tr th:only-of-type {\n",
       "        vertical-align: middle;\n",
       "    }\n",
       "\n",
       "    .dataframe tbody tr th {\n",
       "        vertical-align: top;\n",
       "    }\n",
       "\n",
       "    .dataframe thead th {\n",
       "        text-align: right;\n",
       "    }\n",
       "</style>\n",
       "<table border=\"1\" class=\"dataframe\">\n",
       "  <thead>\n",
       "    <tr style=\"text-align: right;\">\n",
       "      <th></th>\n",
       "      <th>A</th>\n",
       "      <th>B</th>\n",
       "      <th>C</th>\n",
       "      <th>D</th>\n",
       "      <th>E</th>\n",
       "      <th>F</th>\n",
       "    </tr>\n",
       "  </thead>\n",
       "  <tbody>\n",
       "    <tr>\n",
       "      <th>0</th>\n",
       "      <td>1.0</td>\n",
       "      <td>2013-01-02</td>\n",
       "      <td>1.0</td>\n",
       "      <td>3</td>\n",
       "      <td>test</td>\n",
       "      <td>foo</td>\n",
       "    </tr>\n",
       "    <tr>\n",
       "      <th>1</th>\n",
       "      <td>1.0</td>\n",
       "      <td>2013-01-02</td>\n",
       "      <td>1.0</td>\n",
       "      <td>3</td>\n",
       "      <td>train</td>\n",
       "      <td>foo</td>\n",
       "    </tr>\n",
       "    <tr>\n",
       "      <th>2</th>\n",
       "      <td>1.0</td>\n",
       "      <td>2013-01-02</td>\n",
       "      <td>1.0</td>\n",
       "      <td>3</td>\n",
       "      <td>test</td>\n",
       "      <td>foo</td>\n",
       "    </tr>\n",
       "    <tr>\n",
       "      <th>3</th>\n",
       "      <td>1.0</td>\n",
       "      <td>2013-01-02</td>\n",
       "      <td>1.0</td>\n",
       "      <td>3</td>\n",
       "      <td>train</td>\n",
       "      <td>foo</td>\n",
       "    </tr>\n",
       "  </tbody>\n",
       "</table>\n",
       "</div>"
      ],
      "text/plain": [
       "     A          B    C  D      E    F\n",
       "0  1.0 2013-01-02  1.0  3   test  foo\n",
       "1  1.0 2013-01-02  1.0  3  train  foo\n",
       "2  1.0 2013-01-02  1.0  3   test  foo\n",
       "3  1.0 2013-01-02  1.0  3  train  foo"
      ]
     },
     "execution_count": 5,
     "metadata": {},
     "output_type": "execute_result"
    }
   ],
   "source": [
    "df2 = pd.DataFrame({ 'A' : 1.,\n",
    "   ....:                      'B' : pd.Timestamp('20130102'),\n",
    "   ....:                      'C' : pd.Series(1,index=list(range(4)),dtype='float32'),\n",
    "   ....:                      'D' : np.array([3] * 4,dtype='int32'),\n",
    "   ....:                      'E' : pd.Categorical([\"test\",\"train\",\"test\",\"train\"]),\n",
    "   ....:                      'F' : 'foo' })\n",
    "   ....: \n",
    "df2"
   ]
  },
  {
   "cell_type": "markdown",
   "metadata": {
    "_cell_guid": "10d03951-7cbd-4ee0-9302-1a77697a74f2",
    "_uuid": "05e30726935db33f49e624f496fc8c953be46383"
   },
   "source": [
    "Having specific [dtypes](https://pandas.pydata.org/pandas-docs/stable/basics.html#basics-dtypes):"
   ]
  },
  {
   "cell_type": "code",
   "execution_count": 6,
   "metadata": {
    "_cell_guid": "e862ec95-5893-4f46-ac7d-4d8a638ffc1f",
    "_uuid": "9e7f0e3693cf1f63718fce13feed81c93ed22d58"
   },
   "outputs": [
    {
     "data": {
      "text/plain": [
       "A           float64\n",
       "B    datetime64[ns]\n",
       "C           float32\n",
       "D             int32\n",
       "E          category\n",
       "F            object\n",
       "dtype: object"
      ]
     },
     "execution_count": 6,
     "metadata": {},
     "output_type": "execute_result"
    }
   ],
   "source": [
    "df2.dtypes"
   ]
  },
  {
   "cell_type": "markdown",
   "metadata": {
    "_cell_guid": "860dc5f5-ce12-47b0-b0b1-09cc4aba5f73",
    "_uuid": "886b98db6af991c2ec742c18085b0b8a7b88d31f"
   },
   "source": [
    "\n",
    "# Viewing Data\n",
    "See the [Basics section](https://pandas.pydata.org/pandas-docs/stable/basics.html#basics)\n",
    "See the top & bottom rows of the frame"
   ]
  },
  {
   "cell_type": "code",
   "execution_count": 7,
   "metadata": {
    "_cell_guid": "b1b5ca0e-4b43-4ec9-80ee-65b807d234d2",
    "_uuid": "c1d9e77ee2cfdc5b81af10b29565a9166ca01994"
   },
   "outputs": [
    {
     "data": {
      "text/html": [
       "<div>\n",
       "<style scoped>\n",
       "    .dataframe tbody tr th:only-of-type {\n",
       "        vertical-align: middle;\n",
       "    }\n",
       "\n",
       "    .dataframe tbody tr th {\n",
       "        vertical-align: top;\n",
       "    }\n",
       "\n",
       "    .dataframe thead th {\n",
       "        text-align: right;\n",
       "    }\n",
       "</style>\n",
       "<table border=\"1\" class=\"dataframe\">\n",
       "  <thead>\n",
       "    <tr style=\"text-align: right;\">\n",
       "      <th></th>\n",
       "      <th>one</th>\n",
       "      <th>two</th>\n",
       "      <th>three</th>\n",
       "      <th>four</th>\n",
       "    </tr>\n",
       "  </thead>\n",
       "  <tbody>\n",
       "    <tr>\n",
       "      <th>2014-11-01</th>\n",
       "      <td>-1.098893</td>\n",
       "      <td>-1.177668</td>\n",
       "      <td>0.910219</td>\n",
       "      <td>-1.143961</td>\n",
       "    </tr>\n",
       "    <tr>\n",
       "      <th>2014-11-02</th>\n",
       "      <td>2.418214</td>\n",
       "      <td>1.134130</td>\n",
       "      <td>0.567361</td>\n",
       "      <td>0.921225</td>\n",
       "    </tr>\n",
       "    <tr>\n",
       "      <th>2014-11-03</th>\n",
       "      <td>0.891612</td>\n",
       "      <td>1.293983</td>\n",
       "      <td>-0.836017</td>\n",
       "      <td>-1.487740</td>\n",
       "    </tr>\n",
       "    <tr>\n",
       "      <th>2014-11-04</th>\n",
       "      <td>1.107417</td>\n",
       "      <td>-0.111957</td>\n",
       "      <td>0.618144</td>\n",
       "      <td>-0.382438</td>\n",
       "    </tr>\n",
       "    <tr>\n",
       "      <th>2014-11-05</th>\n",
       "      <td>-0.272585</td>\n",
       "      <td>-0.948973</td>\n",
       "      <td>0.122929</td>\n",
       "      <td>-0.909909</td>\n",
       "    </tr>\n",
       "  </tbody>\n",
       "</table>\n",
       "</div>"
      ],
      "text/plain": [
       "                 one       two     three      four\n",
       "2014-11-01 -1.098893 -1.177668  0.910219 -1.143961\n",
       "2014-11-02  2.418214  1.134130  0.567361  0.921225\n",
       "2014-11-03  0.891612  1.293983 -0.836017 -1.487740\n",
       "2014-11-04  1.107417 -0.111957  0.618144 -0.382438\n",
       "2014-11-05 -0.272585 -0.948973  0.122929 -0.909909"
      ]
     },
     "execution_count": 7,
     "metadata": {},
     "output_type": "execute_result"
    }
   ],
   "source": [
    "df.head()"
   ]
  },
  {
   "cell_type": "code",
   "execution_count": 8,
   "metadata": {
    "_cell_guid": "3428b24c-520e-4d23-b439-9c9e2b8d353d",
    "_uuid": "74c7c24d7adc0382cdc6055a88643ea7cbe2c111"
   },
   "outputs": [
    {
     "data": {
      "text/html": [
       "<div>\n",
       "<style scoped>\n",
       "    .dataframe tbody tr th:only-of-type {\n",
       "        vertical-align: middle;\n",
       "    }\n",
       "\n",
       "    .dataframe tbody tr th {\n",
       "        vertical-align: top;\n",
       "    }\n",
       "\n",
       "    .dataframe thead th {\n",
       "        text-align: right;\n",
       "    }\n",
       "</style>\n",
       "<table border=\"1\" class=\"dataframe\">\n",
       "  <thead>\n",
       "    <tr style=\"text-align: right;\">\n",
       "      <th></th>\n",
       "      <th>one</th>\n",
       "      <th>two</th>\n",
       "      <th>three</th>\n",
       "      <th>four</th>\n",
       "    </tr>\n",
       "  </thead>\n",
       "  <tbody>\n",
       "    <tr>\n",
       "      <th>2014-11-04</th>\n",
       "      <td>1.107417</td>\n",
       "      <td>-0.111957</td>\n",
       "      <td>0.618144</td>\n",
       "      <td>-0.382438</td>\n",
       "    </tr>\n",
       "    <tr>\n",
       "      <th>2014-11-05</th>\n",
       "      <td>-0.272585</td>\n",
       "      <td>-0.948973</td>\n",
       "      <td>0.122929</td>\n",
       "      <td>-0.909909</td>\n",
       "    </tr>\n",
       "    <tr>\n",
       "      <th>2014-11-06</th>\n",
       "      <td>0.064267</td>\n",
       "      <td>1.262345</td>\n",
       "      <td>0.961092</td>\n",
       "      <td>1.683544</td>\n",
       "    </tr>\n",
       "  </tbody>\n",
       "</table>\n",
       "</div>"
      ],
      "text/plain": [
       "                 one       two     three      four\n",
       "2014-11-04  1.107417 -0.111957  0.618144 -0.382438\n",
       "2014-11-05 -0.272585 -0.948973  0.122929 -0.909909\n",
       "2014-11-06  0.064267  1.262345  0.961092  1.683544"
      ]
     },
     "execution_count": 8,
     "metadata": {},
     "output_type": "execute_result"
    }
   ],
   "source": [
    "df.tail(3)"
   ]
  },
  {
   "cell_type": "code",
   "execution_count": 9,
   "metadata": {},
   "outputs": [
    {
     "data": {
      "text/html": [
       "<div>\n",
       "<style scoped>\n",
       "    .dataframe tbody tr th:only-of-type {\n",
       "        vertical-align: middle;\n",
       "    }\n",
       "\n",
       "    .dataframe tbody tr th {\n",
       "        vertical-align: top;\n",
       "    }\n",
       "\n",
       "    .dataframe thead th {\n",
       "        text-align: right;\n",
       "    }\n",
       "</style>\n",
       "<table border=\"1\" class=\"dataframe\">\n",
       "  <thead>\n",
       "    <tr style=\"text-align: right;\">\n",
       "      <th></th>\n",
       "      <th>one</th>\n",
       "      <th>two</th>\n",
       "      <th>three</th>\n",
       "      <th>four</th>\n",
       "    </tr>\n",
       "  </thead>\n",
       "  <tbody>\n",
       "    <tr>\n",
       "      <th>2014-11-06</th>\n",
       "      <td>0.064267</td>\n",
       "      <td>1.262345</td>\n",
       "      <td>0.961092</td>\n",
       "      <td>1.683544</td>\n",
       "    </tr>\n",
       "    <tr>\n",
       "      <th>2014-11-03</th>\n",
       "      <td>0.891612</td>\n",
       "      <td>1.293983</td>\n",
       "      <td>-0.836017</td>\n",
       "      <td>-1.487740</td>\n",
       "    </tr>\n",
       "    <tr>\n",
       "      <th>2014-11-01</th>\n",
       "      <td>-1.098893</td>\n",
       "      <td>-1.177668</td>\n",
       "      <td>0.910219</td>\n",
       "      <td>-1.143961</td>\n",
       "    </tr>\n",
       "    <tr>\n",
       "      <th>2014-11-04</th>\n",
       "      <td>1.107417</td>\n",
       "      <td>-0.111957</td>\n",
       "      <td>0.618144</td>\n",
       "      <td>-0.382438</td>\n",
       "    </tr>\n",
       "    <tr>\n",
       "      <th>2014-11-02</th>\n",
       "      <td>2.418214</td>\n",
       "      <td>1.134130</td>\n",
       "      <td>0.567361</td>\n",
       "      <td>0.921225</td>\n",
       "    </tr>\n",
       "  </tbody>\n",
       "</table>\n",
       "</div>"
      ],
      "text/plain": [
       "                 one       two     three      four\n",
       "2014-11-06  0.064267  1.262345  0.961092  1.683544\n",
       "2014-11-03  0.891612  1.293983 -0.836017 -1.487740\n",
       "2014-11-01 -1.098893 -1.177668  0.910219 -1.143961\n",
       "2014-11-04  1.107417 -0.111957  0.618144 -0.382438\n",
       "2014-11-02  2.418214  1.134130  0.567361  0.921225"
      ]
     },
     "execution_count": 9,
     "metadata": {},
     "output_type": "execute_result"
    }
   ],
   "source": [
    "df.sample(5)"
   ]
  },
  {
   "cell_type": "markdown",
   "metadata": {
    "_cell_guid": "efec648c-6c39-4b09-a87e-cf3dc723ff0b",
    "_uuid": "5c4372dac3fba6ebf7fc16e222ab135529dfb3fe"
   },
   "source": [
    "Display the index, columns, and the underlying numpy data"
   ]
  },
  {
   "cell_type": "code",
   "execution_count": 10,
   "metadata": {
    "_cell_guid": "53a240a3-ecb2-4f38-8862-da1d00aedf7c",
    "_uuid": "056ab69a40592e47b9e07cb2514784eb50d81ade"
   },
   "outputs": [
    {
     "data": {
      "text/plain": [
       "DatetimeIndex(['2014-11-01', '2014-11-02', '2014-11-03', '2014-11-04',\n",
       "               '2014-11-05', '2014-11-06'],\n",
       "              dtype='datetime64[ns]', freq='D')"
      ]
     },
     "execution_count": 10,
     "metadata": {},
     "output_type": "execute_result"
    }
   ],
   "source": [
    "df.index"
   ]
  },
  {
   "cell_type": "code",
   "execution_count": 11,
   "metadata": {
    "_cell_guid": "a9cae030-681e-4b3d-993f-0e2cbaaa10a9",
    "_uuid": "b86456edbcc2249100502525c1fd38dd4235d0f3"
   },
   "outputs": [
    {
     "data": {
      "text/plain": [
       "Index(['one', 'two', 'three', 'four'], dtype='object')"
      ]
     },
     "execution_count": 11,
     "metadata": {},
     "output_type": "execute_result"
    }
   ],
   "source": [
    "df.columns"
   ]
  },
  {
   "cell_type": "code",
   "execution_count": 12,
   "metadata": {
    "_cell_guid": "0d442ada-0d41-4fe4-a843-48592068306d",
    "_uuid": "842fe1b27b0714ee2155a657e3eec4f3719a40b0"
   },
   "outputs": [
    {
     "data": {
      "text/plain": [
       "(6, 4)"
      ]
     },
     "execution_count": 12,
     "metadata": {},
     "output_type": "execute_result"
    }
   ],
   "source": [
    "df.values.shape"
   ]
  },
  {
   "cell_type": "markdown",
   "metadata": {
    "_cell_guid": "ab9e7b9e-f32b-4c0f-9df6-32d4464a4cb2",
    "_uuid": "7ef425f14c048accd98f18f3a5e0974fa9fe8a78"
   },
   "source": [
    "Describe shows a quick statistic summary of your data"
   ]
  },
  {
   "cell_type": "code",
   "execution_count": 13,
   "metadata": {
    "_cell_guid": "43393dfd-989c-43a6-834e-550c8d3ccbd4",
    "_uuid": "1f1dbb5dd09ffa4c2ee0c3c289328de4c070ad2b"
   },
   "outputs": [
    {
     "data": {
      "text/html": [
       "<div>\n",
       "<style scoped>\n",
       "    .dataframe tbody tr th:only-of-type {\n",
       "        vertical-align: middle;\n",
       "    }\n",
       "\n",
       "    .dataframe tbody tr th {\n",
       "        vertical-align: top;\n",
       "    }\n",
       "\n",
       "    .dataframe thead th {\n",
       "        text-align: right;\n",
       "    }\n",
       "</style>\n",
       "<table border=\"1\" class=\"dataframe\">\n",
       "  <thead>\n",
       "    <tr style=\"text-align: right;\">\n",
       "      <th></th>\n",
       "      <th>one</th>\n",
       "      <th>two</th>\n",
       "      <th>three</th>\n",
       "      <th>four</th>\n",
       "    </tr>\n",
       "  </thead>\n",
       "  <tbody>\n",
       "    <tr>\n",
       "      <th>count</th>\n",
       "      <td>6.000000</td>\n",
       "      <td>6.000000</td>\n",
       "      <td>6.000000</td>\n",
       "      <td>6.000000</td>\n",
       "    </tr>\n",
       "    <tr>\n",
       "      <th>mean</th>\n",
       "      <td>0.518339</td>\n",
       "      <td>0.241977</td>\n",
       "      <td>0.390621</td>\n",
       "      <td>-0.219880</td>\n",
       "    </tr>\n",
       "    <tr>\n",
       "      <th>std</th>\n",
       "      <td>1.228255</td>\n",
       "      <td>1.140423</td>\n",
       "      <td>0.671524</td>\n",
       "      <td>1.256113</td>\n",
       "    </tr>\n",
       "    <tr>\n",
       "      <th>min</th>\n",
       "      <td>-1.098893</td>\n",
       "      <td>-1.177668</td>\n",
       "      <td>-0.836017</td>\n",
       "      <td>-1.487740</td>\n",
       "    </tr>\n",
       "    <tr>\n",
       "      <th>25%</th>\n",
       "      <td>-0.188372</td>\n",
       "      <td>-0.739719</td>\n",
       "      <td>0.234037</td>\n",
       "      <td>-1.085448</td>\n",
       "    </tr>\n",
       "    <tr>\n",
       "      <th>50%</th>\n",
       "      <td>0.477939</td>\n",
       "      <td>0.511087</td>\n",
       "      <td>0.592752</td>\n",
       "      <td>-0.646173</td>\n",
       "    </tr>\n",
       "    <tr>\n",
       "      <th>75%</th>\n",
       "      <td>1.053466</td>\n",
       "      <td>1.230291</td>\n",
       "      <td>0.837200</td>\n",
       "      <td>0.595309</td>\n",
       "    </tr>\n",
       "    <tr>\n",
       "      <th>max</th>\n",
       "      <td>2.418214</td>\n",
       "      <td>1.293983</td>\n",
       "      <td>0.961092</td>\n",
       "      <td>1.683544</td>\n",
       "    </tr>\n",
       "  </tbody>\n",
       "</table>\n",
       "</div>"
      ],
      "text/plain": [
       "            one       two     three      four\n",
       "count  6.000000  6.000000  6.000000  6.000000\n",
       "mean   0.518339  0.241977  0.390621 -0.219880\n",
       "std    1.228255  1.140423  0.671524  1.256113\n",
       "min   -1.098893 -1.177668 -0.836017 -1.487740\n",
       "25%   -0.188372 -0.739719  0.234037 -1.085448\n",
       "50%    0.477939  0.511087  0.592752 -0.646173\n",
       "75%    1.053466  1.230291  0.837200  0.595309\n",
       "max    2.418214  1.293983  0.961092  1.683544"
      ]
     },
     "execution_count": 13,
     "metadata": {},
     "output_type": "execute_result"
    }
   ],
   "source": [
    "df.describe()"
   ]
  },
  {
   "cell_type": "markdown",
   "metadata": {
    "_cell_guid": "21ba544f-8736-4382-8462-20f02c353328",
    "_uuid": "e5fb874c26019da50f1b68fbea8bcf0e7940809f"
   },
   "source": [
    "Transposing your data"
   ]
  },
  {
   "cell_type": "code",
   "execution_count": 14,
   "metadata": {
    "_cell_guid": "13e0e285-eac4-48fc-8a82-23491e8ebaf0",
    "_uuid": "ee5d4078cd8d5a545be55483208e73b9c9e939f4"
   },
   "outputs": [
    {
     "data": {
      "text/html": [
       "<div>\n",
       "<style scoped>\n",
       "    .dataframe tbody tr th:only-of-type {\n",
       "        vertical-align: middle;\n",
       "    }\n",
       "\n",
       "    .dataframe tbody tr th {\n",
       "        vertical-align: top;\n",
       "    }\n",
       "\n",
       "    .dataframe thead th {\n",
       "        text-align: right;\n",
       "    }\n",
       "</style>\n",
       "<table border=\"1\" class=\"dataframe\">\n",
       "  <thead>\n",
       "    <tr style=\"text-align: right;\">\n",
       "      <th></th>\n",
       "      <th>2014-11-01 00:00:00</th>\n",
       "      <th>2014-11-02 00:00:00</th>\n",
       "      <th>2014-11-03 00:00:00</th>\n",
       "      <th>2014-11-04 00:00:00</th>\n",
       "      <th>2014-11-05 00:00:00</th>\n",
       "      <th>2014-11-06 00:00:00</th>\n",
       "    </tr>\n",
       "  </thead>\n",
       "  <tbody>\n",
       "    <tr>\n",
       "      <th>one</th>\n",
       "      <td>-1.098893</td>\n",
       "      <td>2.418214</td>\n",
       "      <td>0.891612</td>\n",
       "      <td>1.107417</td>\n",
       "      <td>-0.272585</td>\n",
       "      <td>0.064267</td>\n",
       "    </tr>\n",
       "    <tr>\n",
       "      <th>two</th>\n",
       "      <td>-1.177668</td>\n",
       "      <td>1.134130</td>\n",
       "      <td>1.293983</td>\n",
       "      <td>-0.111957</td>\n",
       "      <td>-0.948973</td>\n",
       "      <td>1.262345</td>\n",
       "    </tr>\n",
       "    <tr>\n",
       "      <th>three</th>\n",
       "      <td>0.910219</td>\n",
       "      <td>0.567361</td>\n",
       "      <td>-0.836017</td>\n",
       "      <td>0.618144</td>\n",
       "      <td>0.122929</td>\n",
       "      <td>0.961092</td>\n",
       "    </tr>\n",
       "    <tr>\n",
       "      <th>four</th>\n",
       "      <td>-1.143961</td>\n",
       "      <td>0.921225</td>\n",
       "      <td>-1.487740</td>\n",
       "      <td>-0.382438</td>\n",
       "      <td>-0.909909</td>\n",
       "      <td>1.683544</td>\n",
       "    </tr>\n",
       "  </tbody>\n",
       "</table>\n",
       "</div>"
      ],
      "text/plain": [
       "       2014-11-01  2014-11-02  2014-11-03  2014-11-04  2014-11-05  2014-11-06\n",
       "one     -1.098893    2.418214    0.891612    1.107417   -0.272585    0.064267\n",
       "two     -1.177668    1.134130    1.293983   -0.111957   -0.948973    1.262345\n",
       "three    0.910219    0.567361   -0.836017    0.618144    0.122929    0.961092\n",
       "four    -1.143961    0.921225   -1.487740   -0.382438   -0.909909    1.683544"
      ]
     },
     "execution_count": 14,
     "metadata": {},
     "output_type": "execute_result"
    }
   ],
   "source": [
    "df.T"
   ]
  },
  {
   "cell_type": "markdown",
   "metadata": {
    "_cell_guid": "d92b9eac-9dc6-446e-b87e-d50ef52630a8",
    "_uuid": "b526362d5e5f451a460ca3add042b633538055dc"
   },
   "source": [
    "Sorting by an axis (In this case, sorting the columns in reverse alphabetical order):"
   ]
  },
  {
   "cell_type": "code",
   "execution_count": 15,
   "metadata": {
    "_cell_guid": "1dfd42f4-5231-4508-900f-1ddc37cdd250",
    "_uuid": "397ac00b05aa5867ba188f537ae7ac814275352c"
   },
   "outputs": [
    {
     "data": {
      "text/html": [
       "<div>\n",
       "<style scoped>\n",
       "    .dataframe tbody tr th:only-of-type {\n",
       "        vertical-align: middle;\n",
       "    }\n",
       "\n",
       "    .dataframe tbody tr th {\n",
       "        vertical-align: top;\n",
       "    }\n",
       "\n",
       "    .dataframe thead th {\n",
       "        text-align: right;\n",
       "    }\n",
       "</style>\n",
       "<table border=\"1\" class=\"dataframe\">\n",
       "  <thead>\n",
       "    <tr style=\"text-align: right;\">\n",
       "      <th></th>\n",
       "      <th>two</th>\n",
       "      <th>three</th>\n",
       "      <th>one</th>\n",
       "      <th>four</th>\n",
       "    </tr>\n",
       "  </thead>\n",
       "  <tbody>\n",
       "    <tr>\n",
       "      <th>2014-11-01</th>\n",
       "      <td>-1.177668</td>\n",
       "      <td>0.910219</td>\n",
       "      <td>-1.098893</td>\n",
       "      <td>-1.143961</td>\n",
       "    </tr>\n",
       "    <tr>\n",
       "      <th>2014-11-02</th>\n",
       "      <td>1.134130</td>\n",
       "      <td>0.567361</td>\n",
       "      <td>2.418214</td>\n",
       "      <td>0.921225</td>\n",
       "    </tr>\n",
       "    <tr>\n",
       "      <th>2014-11-03</th>\n",
       "      <td>1.293983</td>\n",
       "      <td>-0.836017</td>\n",
       "      <td>0.891612</td>\n",
       "      <td>-1.487740</td>\n",
       "    </tr>\n",
       "    <tr>\n",
       "      <th>2014-11-04</th>\n",
       "      <td>-0.111957</td>\n",
       "      <td>0.618144</td>\n",
       "      <td>1.107417</td>\n",
       "      <td>-0.382438</td>\n",
       "    </tr>\n",
       "    <tr>\n",
       "      <th>2014-11-05</th>\n",
       "      <td>-0.948973</td>\n",
       "      <td>0.122929</td>\n",
       "      <td>-0.272585</td>\n",
       "      <td>-0.909909</td>\n",
       "    </tr>\n",
       "    <tr>\n",
       "      <th>2014-11-06</th>\n",
       "      <td>1.262345</td>\n",
       "      <td>0.961092</td>\n",
       "      <td>0.064267</td>\n",
       "      <td>1.683544</td>\n",
       "    </tr>\n",
       "  </tbody>\n",
       "</table>\n",
       "</div>"
      ],
      "text/plain": [
       "                 two     three       one      four\n",
       "2014-11-01 -1.177668  0.910219 -1.098893 -1.143961\n",
       "2014-11-02  1.134130  0.567361  2.418214  0.921225\n",
       "2014-11-03  1.293983 -0.836017  0.891612 -1.487740\n",
       "2014-11-04 -0.111957  0.618144  1.107417 -0.382438\n",
       "2014-11-05 -0.948973  0.122929 -0.272585 -0.909909\n",
       "2014-11-06  1.262345  0.961092  0.064267  1.683544"
      ]
     },
     "execution_count": 15,
     "metadata": {},
     "output_type": "execute_result"
    }
   ],
   "source": [
    "df.sort_index(axis=1, ascending=False)"
   ]
  },
  {
   "cell_type": "markdown",
   "metadata": {
    "_cell_guid": "9898c02b-57bd-48d6-884f-3fe8eb53b34a",
    "_uuid": "e3c6b93d9352a0660f989b63e09f03e05c9e1feb"
   },
   "source": [
    "Sorting by values"
   ]
  },
  {
   "cell_type": "code",
   "execution_count": 16,
   "metadata": {
    "_cell_guid": "389c1344-4f60-4628-b6c1-de736d429d3a",
    "_uuid": "df1ac4e8bc643bbcc49f0769c52778ca19761a9e"
   },
   "outputs": [
    {
     "data": {
      "text/html": [
       "<div>\n",
       "<style scoped>\n",
       "    .dataframe tbody tr th:only-of-type {\n",
       "        vertical-align: middle;\n",
       "    }\n",
       "\n",
       "    .dataframe tbody tr th {\n",
       "        vertical-align: top;\n",
       "    }\n",
       "\n",
       "    .dataframe thead th {\n",
       "        text-align: right;\n",
       "    }\n",
       "</style>\n",
       "<table border=\"1\" class=\"dataframe\">\n",
       "  <thead>\n",
       "    <tr style=\"text-align: right;\">\n",
       "      <th></th>\n",
       "      <th>one</th>\n",
       "      <th>two</th>\n",
       "      <th>three</th>\n",
       "      <th>four</th>\n",
       "    </tr>\n",
       "  </thead>\n",
       "  <tbody>\n",
       "    <tr>\n",
       "      <th>2014-11-01</th>\n",
       "      <td>-1.098893</td>\n",
       "      <td>-1.177668</td>\n",
       "      <td>0.910219</td>\n",
       "      <td>-1.143961</td>\n",
       "    </tr>\n",
       "    <tr>\n",
       "      <th>2014-11-05</th>\n",
       "      <td>-0.272585</td>\n",
       "      <td>-0.948973</td>\n",
       "      <td>0.122929</td>\n",
       "      <td>-0.909909</td>\n",
       "    </tr>\n",
       "    <tr>\n",
       "      <th>2014-11-04</th>\n",
       "      <td>1.107417</td>\n",
       "      <td>-0.111957</td>\n",
       "      <td>0.618144</td>\n",
       "      <td>-0.382438</td>\n",
       "    </tr>\n",
       "    <tr>\n",
       "      <th>2014-11-02</th>\n",
       "      <td>2.418214</td>\n",
       "      <td>1.134130</td>\n",
       "      <td>0.567361</td>\n",
       "      <td>0.921225</td>\n",
       "    </tr>\n",
       "    <tr>\n",
       "      <th>2014-11-06</th>\n",
       "      <td>0.064267</td>\n",
       "      <td>1.262345</td>\n",
       "      <td>0.961092</td>\n",
       "      <td>1.683544</td>\n",
       "    </tr>\n",
       "    <tr>\n",
       "      <th>2014-11-03</th>\n",
       "      <td>0.891612</td>\n",
       "      <td>1.293983</td>\n",
       "      <td>-0.836017</td>\n",
       "      <td>-1.487740</td>\n",
       "    </tr>\n",
       "  </tbody>\n",
       "</table>\n",
       "</div>"
      ],
      "text/plain": [
       "                 one       two     three      four\n",
       "2014-11-01 -1.098893 -1.177668  0.910219 -1.143961\n",
       "2014-11-05 -0.272585 -0.948973  0.122929 -0.909909\n",
       "2014-11-04  1.107417 -0.111957  0.618144 -0.382438\n",
       "2014-11-02  2.418214  1.134130  0.567361  0.921225\n",
       "2014-11-06  0.064267  1.262345  0.961092  1.683544\n",
       "2014-11-03  0.891612  1.293983 -0.836017 -1.487740"
      ]
     },
     "execution_count": 16,
     "metadata": {},
     "output_type": "execute_result"
    }
   ],
   "source": [
    "df.sort_values(by='two')"
   ]
  },
  {
   "cell_type": "markdown",
   "metadata": {
    "_cell_guid": "6e80dc85-7f33-4803-928c-8f327da5c15a",
    "_uuid": "5202ddc8b46f9ce7333977c7dc4c919304fbfd4b"
   },
   "source": [
    "# Selection"
   ]
  },
  {
   "cell_type": "markdown",
   "metadata": {
    "_cell_guid": "cbf1a871-cf24-46ae-8384-72d99f6b3c9a",
    "_uuid": "dd007c4689288bd481c99133d13cb05e204ca1a8"
   },
   "source": [
    "Note While standard Python / Numpy expressions for selecting and setting are intuitive and come in handy for interactive work, for production code, we recommend the optimized pandas data access methods, .at, .iat, .loc, .iloc and .ix.\n",
    "See the indexing documentation [Indexing and Selecting Data](https://pandas.pydata.org/pandas-docs/stable/indexing.html#indexing) and [MultiIndex / Advanced Indexing](https://pandas.pydata.org/pandas-docs/stable/advanced.html#advanced)"
   ]
  },
  {
   "cell_type": "markdown",
   "metadata": {
    "_cell_guid": "002668d8-3da6-4f78-bb84-0c1d3d42c81c",
    "_uuid": "446149fabdb526d11b6d42aa58a7219043a63210"
   },
   "source": [
    "## Getting"
   ]
  },
  {
   "cell_type": "markdown",
   "metadata": {
    "_cell_guid": "04f82f76-6390-4f0e-9a64-67619cc85e42",
    "_uuid": "8f34cc17657fc7f8b77f35c5beefdca76343994e"
   },
   "source": [
    "Selecting a single column, which yields a Series, equivalent to df.one"
   ]
  },
  {
   "cell_type": "code",
   "execution_count": 17,
   "metadata": {},
   "outputs": [
    {
     "data": {
      "text/html": [
       "<div>\n",
       "<style scoped>\n",
       "    .dataframe tbody tr th:only-of-type {\n",
       "        vertical-align: middle;\n",
       "    }\n",
       "\n",
       "    .dataframe tbody tr th {\n",
       "        vertical-align: top;\n",
       "    }\n",
       "\n",
       "    .dataframe thead th {\n",
       "        text-align: right;\n",
       "    }\n",
       "</style>\n",
       "<table border=\"1\" class=\"dataframe\">\n",
       "  <thead>\n",
       "    <tr style=\"text-align: right;\">\n",
       "      <th></th>\n",
       "      <th>one</th>\n",
       "      <th>two</th>\n",
       "      <th>three</th>\n",
       "      <th>four</th>\n",
       "    </tr>\n",
       "  </thead>\n",
       "  <tbody>\n",
       "    <tr>\n",
       "      <th>2014-11-01</th>\n",
       "      <td>-1.098893</td>\n",
       "      <td>-1.177668</td>\n",
       "      <td>0.910219</td>\n",
       "      <td>-1.143961</td>\n",
       "    </tr>\n",
       "    <tr>\n",
       "      <th>2014-11-05</th>\n",
       "      <td>-0.272585</td>\n",
       "      <td>-0.948973</td>\n",
       "      <td>0.122929</td>\n",
       "      <td>-0.909909</td>\n",
       "    </tr>\n",
       "    <tr>\n",
       "      <th>2014-11-06</th>\n",
       "      <td>0.064267</td>\n",
       "      <td>1.262345</td>\n",
       "      <td>0.961092</td>\n",
       "      <td>1.683544</td>\n",
       "    </tr>\n",
       "  </tbody>\n",
       "</table>\n",
       "</div>"
      ],
      "text/plain": [
       "                 one       two     three      four\n",
       "2014-11-01 -1.098893 -1.177668  0.910219 -1.143961\n",
       "2014-11-05 -0.272585 -0.948973  0.122929 -0.909909\n",
       "2014-11-06  0.064267  1.262345  0.961092  1.683544"
      ]
     },
     "execution_count": 17,
     "metadata": {},
     "output_type": "execute_result"
    }
   ],
   "source": [
    "df.sample(3)"
   ]
  },
  {
   "cell_type": "code",
   "execution_count": 18,
   "metadata": {},
   "outputs": [
    {
     "data": {
      "text/plain": [
       "pandas.core.series.Series"
      ]
     },
     "execution_count": 18,
     "metadata": {},
     "output_type": "execute_result"
    }
   ],
   "source": [
    "type(df['one'])"
   ]
  },
  {
   "cell_type": "code",
   "execution_count": 19,
   "metadata": {
    "_cell_guid": "4be8e75e-64f3-453e-b3e5-b788b1c967a5",
    "_uuid": "9bd8927534a077d8d9c3d74747ea6ab3f5070d68"
   },
   "outputs": [
    {
     "data": {
      "text/plain": [
       "2014-11-01   -1.098893\n",
       "2014-11-02    2.418214\n",
       "2014-11-03    0.891612\n",
       "2014-11-04    1.107417\n",
       "2014-11-05   -0.272585\n",
       "2014-11-06    0.064267\n",
       "Freq: D, Name: one, dtype: float64"
      ]
     },
     "execution_count": 19,
     "metadata": {},
     "output_type": "execute_result"
    }
   ],
   "source": [
    "df['one']"
   ]
  },
  {
   "cell_type": "code",
   "execution_count": 20,
   "metadata": {
    "_cell_guid": "c0092d95-8fd7-4059-8938-580a05c70f6b",
    "_uuid": "9678ff7f4faaffc358ad10bb176d96c7d45ac236"
   },
   "outputs": [
    {
     "data": {
      "text/plain": [
       "2014-11-01   -1.098893\n",
       "2014-11-02    2.418214\n",
       "2014-11-03    0.891612\n",
       "2014-11-04    1.107417\n",
       "2014-11-05   -0.272585\n",
       "2014-11-06    0.064267\n",
       "Freq: D, Name: one, dtype: float64"
      ]
     },
     "execution_count": 20,
     "metadata": {},
     "output_type": "execute_result"
    }
   ],
   "source": [
    "df.one"
   ]
  },
  {
   "cell_type": "markdown",
   "metadata": {
    "_cell_guid": "a9160b5a-2a8d-42f7-a1a0-cf59481bbbe5",
    "_uuid": "724ce079707e2d58e3e6ec122a128fb280f85010"
   },
   "source": [
    "Selecting via [], which slices the rows."
   ]
  },
  {
   "cell_type": "code",
   "execution_count": 21,
   "metadata": {
    "_cell_guid": "f5909120-c5ee-498a-8ed1-b4316b51226e",
    "_uuid": "dbcd1c56866336f25d10ebfb1dbd457b1c5c415e"
   },
   "outputs": [
    {
     "data": {
      "text/html": [
       "<div>\n",
       "<style scoped>\n",
       "    .dataframe tbody tr th:only-of-type {\n",
       "        vertical-align: middle;\n",
       "    }\n",
       "\n",
       "    .dataframe tbody tr th {\n",
       "        vertical-align: top;\n",
       "    }\n",
       "\n",
       "    .dataframe thead th {\n",
       "        text-align: right;\n",
       "    }\n",
       "</style>\n",
       "<table border=\"1\" class=\"dataframe\">\n",
       "  <thead>\n",
       "    <tr style=\"text-align: right;\">\n",
       "      <th></th>\n",
       "      <th>one</th>\n",
       "      <th>two</th>\n",
       "      <th>three</th>\n",
       "      <th>four</th>\n",
       "    </tr>\n",
       "  </thead>\n",
       "  <tbody>\n",
       "    <tr>\n",
       "      <th>2014-11-02</th>\n",
       "      <td>2.418214</td>\n",
       "      <td>1.134130</td>\n",
       "      <td>0.567361</td>\n",
       "      <td>0.921225</td>\n",
       "    </tr>\n",
       "    <tr>\n",
       "      <th>2014-11-03</th>\n",
       "      <td>0.891612</td>\n",
       "      <td>1.293983</td>\n",
       "      <td>-0.836017</td>\n",
       "      <td>-1.487740</td>\n",
       "    </tr>\n",
       "  </tbody>\n",
       "</table>\n",
       "</div>"
      ],
      "text/plain": [
       "                 one       two     three      four\n",
       "2014-11-02  2.418214  1.134130  0.567361  0.921225\n",
       "2014-11-03  0.891612  1.293983 -0.836017 -1.487740"
      ]
     },
     "execution_count": 21,
     "metadata": {},
     "output_type": "execute_result"
    }
   ],
   "source": [
    "df[1:3]"
   ]
  },
  {
   "cell_type": "markdown",
   "metadata": {
    "_cell_guid": "47120656-c870-4ccb-87d6-cdf0cb10628b",
    "_uuid": "50e9f44238b630e0f854dffa849f4a26f2b7abfd"
   },
   "source": [
    "## Selecting by Label"
   ]
  },
  {
   "cell_type": "markdown",
   "metadata": {
    "_cell_guid": "5eb8a10b-100c-4949-bf57-fc1b0b709023",
    "_uuid": "6c5b006e3dabd7dc506fb4c840b003667cdcb019"
   },
   "source": [
    "See more in[ Selection by Label](https://pandas.pydata.org/pandas-docs/stable/indexing.html#indexing-label)\n",
    "\n",
    "For getting a cross section using a label"
   ]
  },
  {
   "cell_type": "code",
   "execution_count": 22,
   "metadata": {},
   "outputs": [
    {
     "data": {
      "text/plain": [
       "one      2.418214\n",
       "two      1.134130\n",
       "three    0.567361\n",
       "four     0.921225\n",
       "Name: 2014-11-02 00:00:00, dtype: float64"
      ]
     },
     "execution_count": 22,
     "metadata": {},
     "output_type": "execute_result"
    }
   ],
   "source": [
    "df.loc['2014-11-02']"
   ]
  },
  {
   "cell_type": "markdown",
   "metadata": {
    "_cell_guid": "6a647eb5-c61b-4a01-a9a9-cc9de6284338",
    "_uuid": "847a4c224d66434bc572cdd3106c99bce8925607"
   },
   "source": [
    "Selecting on a multi-axis by label"
   ]
  },
  {
   "cell_type": "code",
   "execution_count": 23,
   "metadata": {
    "_cell_guid": "7001a024-168a-4c7f-bf36-d813fb798bfb",
    "_uuid": "f46aa94ce3199632c14f66aea3f9155fc57c8d3e"
   },
   "outputs": [
    {
     "data": {
      "text/html": [
       "<div>\n",
       "<style scoped>\n",
       "    .dataframe tbody tr th:only-of-type {\n",
       "        vertical-align: middle;\n",
       "    }\n",
       "\n",
       "    .dataframe tbody tr th {\n",
       "        vertical-align: top;\n",
       "    }\n",
       "\n",
       "    .dataframe thead th {\n",
       "        text-align: right;\n",
       "    }\n",
       "</style>\n",
       "<table border=\"1\" class=\"dataframe\">\n",
       "  <thead>\n",
       "    <tr style=\"text-align: right;\">\n",
       "      <th></th>\n",
       "      <th>one</th>\n",
       "      <th>two</th>\n",
       "    </tr>\n",
       "  </thead>\n",
       "  <tbody>\n",
       "    <tr>\n",
       "      <th>2014-11-01</th>\n",
       "      <td>-1.098893</td>\n",
       "      <td>-1.177668</td>\n",
       "    </tr>\n",
       "    <tr>\n",
       "      <th>2014-11-02</th>\n",
       "      <td>2.418214</td>\n",
       "      <td>1.134130</td>\n",
       "    </tr>\n",
       "    <tr>\n",
       "      <th>2014-11-03</th>\n",
       "      <td>0.891612</td>\n",
       "      <td>1.293983</td>\n",
       "    </tr>\n",
       "    <tr>\n",
       "      <th>2014-11-04</th>\n",
       "      <td>1.107417</td>\n",
       "      <td>-0.111957</td>\n",
       "    </tr>\n",
       "    <tr>\n",
       "      <th>2014-11-05</th>\n",
       "      <td>-0.272585</td>\n",
       "      <td>-0.948973</td>\n",
       "    </tr>\n",
       "    <tr>\n",
       "      <th>2014-11-06</th>\n",
       "      <td>0.064267</td>\n",
       "      <td>1.262345</td>\n",
       "    </tr>\n",
       "  </tbody>\n",
       "</table>\n",
       "</div>"
      ],
      "text/plain": [
       "                 one       two\n",
       "2014-11-01 -1.098893 -1.177668\n",
       "2014-11-02  2.418214  1.134130\n",
       "2014-11-03  0.891612  1.293983\n",
       "2014-11-04  1.107417 -0.111957\n",
       "2014-11-05 -0.272585 -0.948973\n",
       "2014-11-06  0.064267  1.262345"
      ]
     },
     "execution_count": 23,
     "metadata": {},
     "output_type": "execute_result"
    }
   ],
   "source": [
    "df.loc[:,['one','two']]"
   ]
  },
  {
   "cell_type": "markdown",
   "metadata": {
    "_cell_guid": "e28a81bd-14eb-4931-a839-98d0ecaecd3c",
    "_uuid": "9a6ae941b46b104db1cd8def0545981d4733bfe9"
   },
   "source": [
    "Showing label slicing, both endpoints are included"
   ]
  },
  {
   "cell_type": "code",
   "execution_count": 24,
   "metadata": {
    "_cell_guid": "96ab0649-01d3-48f2-b519-dd78c2186336",
    "_uuid": "e02bd76d6a3169255570d96c2cb84d1d19baafe9"
   },
   "outputs": [
    {
     "data": {
      "text/html": [
       "<div>\n",
       "<style scoped>\n",
       "    .dataframe tbody tr th:only-of-type {\n",
       "        vertical-align: middle;\n",
       "    }\n",
       "\n",
       "    .dataframe tbody tr th {\n",
       "        vertical-align: top;\n",
       "    }\n",
       "\n",
       "    .dataframe thead th {\n",
       "        text-align: right;\n",
       "    }\n",
       "</style>\n",
       "<table border=\"1\" class=\"dataframe\">\n",
       "  <thead>\n",
       "    <tr style=\"text-align: right;\">\n",
       "      <th></th>\n",
       "      <th>one</th>\n",
       "      <th>two</th>\n",
       "    </tr>\n",
       "  </thead>\n",
       "  <tbody>\n",
       "    <tr>\n",
       "      <th>2014-11-02</th>\n",
       "      <td>2.418214</td>\n",
       "      <td>1.134130</td>\n",
       "    </tr>\n",
       "    <tr>\n",
       "      <th>2014-11-03</th>\n",
       "      <td>0.891612</td>\n",
       "      <td>1.293983</td>\n",
       "    </tr>\n",
       "    <tr>\n",
       "      <th>2014-11-04</th>\n",
       "      <td>1.107417</td>\n",
       "      <td>-0.111957</td>\n",
       "    </tr>\n",
       "  </tbody>\n",
       "</table>\n",
       "</div>"
      ],
      "text/plain": [
       "                 one       two\n",
       "2014-11-02  2.418214  1.134130\n",
       "2014-11-03  0.891612  1.293983\n",
       "2014-11-04  1.107417 -0.111957"
      ]
     },
     "execution_count": 24,
     "metadata": {},
     "output_type": "execute_result"
    }
   ],
   "source": [
    "df.loc['20141102':'20141104',['one','two']]"
   ]
  },
  {
   "cell_type": "markdown",
   "metadata": {
    "_cell_guid": "3d623580-97fc-456e-924f-5bab3121d87d",
    "_uuid": "9f4dd3322a60f1b105d9a21783287edb27c8ea0c"
   },
   "source": [
    "For getting a scalar value"
   ]
  },
  {
   "cell_type": "code",
   "execution_count": 25,
   "metadata": {
    "_cell_guid": "5097b9ad-5170-41d8-857f-97142be556f5",
    "_uuid": "9f1d7120553ca8bb9a6b658c2f04e3bfe67f97a6"
   },
   "outputs": [
    {
     "data": {
      "text/plain": [
       "-1.0988929981088784"
      ]
     },
     "execution_count": 25,
     "metadata": {},
     "output_type": "execute_result"
    }
   ],
   "source": [
    "df.loc[dates[0],'one']"
   ]
  },
  {
   "cell_type": "markdown",
   "metadata": {
    "_cell_guid": "7dd7fef8-149a-420f-a45b-af912c3f2369",
    "_uuid": "16f6dc5101bf7f1cef79a016c9b557ee910930ad"
   },
   "source": [
    "## Selection by Position"
   ]
  },
  {
   "cell_type": "markdown",
   "metadata": {
    "_cell_guid": "428d1a82-86e1-41d0-a416-52906afc8995",
    "_uuid": "a789524d4da761f0fa9b77b459acf52e8a6291b6"
   },
   "source": [
    "See more in [Selection by Position](Selection by Position)\n",
    "\n",
    "Select via the position of the passed integers"
   ]
  },
  {
   "cell_type": "code",
   "execution_count": 26,
   "metadata": {
    "_cell_guid": "fe438107-8d37-4714-8da7-d1c5b3afc846",
    "_uuid": "62558a81897d581168ee6c2b41f76267b9c91124"
   },
   "outputs": [
    {
     "data": {
      "text/plain": [
       "one      1.107417\n",
       "two     -0.111957\n",
       "three    0.618144\n",
       "four    -0.382438\n",
       "Name: 2014-11-04 00:00:00, dtype: float64"
      ]
     },
     "execution_count": 26,
     "metadata": {},
     "output_type": "execute_result"
    }
   ],
   "source": [
    "df.iloc[3]"
   ]
  },
  {
   "cell_type": "markdown",
   "metadata": {
    "_cell_guid": "cd04525c-ada2-4260-b5f7-747d4e5df884",
    "_uuid": "4709ff3e512e7d238ed456980113d4934499b5d6"
   },
   "source": [
    "By integer slices, acting similar to numpy/python"
   ]
  },
  {
   "cell_type": "markdown",
   "metadata": {
    "_cell_guid": "728cc20e-ba9d-413d-9ee5-e76eb2735c8a",
    "_uuid": "602b716b2b8d28bede8043ce95f3247233d3b94c"
   },
   "source": [
    "By lists of integer position locations, similar to the numpy/python style"
   ]
  },
  {
   "cell_type": "code",
   "execution_count": 27,
   "metadata": {
    "_cell_guid": "0af7f46d-7da7-4b36-bcfd-02a9fdb8dbe5",
    "_uuid": "83f0a59d8beabd0bb6192467ebe9b287a3216776"
   },
   "outputs": [
    {
     "data": {
      "text/html": [
       "<div>\n",
       "<style scoped>\n",
       "    .dataframe tbody tr th:only-of-type {\n",
       "        vertical-align: middle;\n",
       "    }\n",
       "\n",
       "    .dataframe tbody tr th {\n",
       "        vertical-align: top;\n",
       "    }\n",
       "\n",
       "    .dataframe thead th {\n",
       "        text-align: right;\n",
       "    }\n",
       "</style>\n",
       "<table border=\"1\" class=\"dataframe\">\n",
       "  <thead>\n",
       "    <tr style=\"text-align: right;\">\n",
       "      <th></th>\n",
       "      <th>one</th>\n",
       "      <th>three</th>\n",
       "    </tr>\n",
       "  </thead>\n",
       "  <tbody>\n",
       "    <tr>\n",
       "      <th>2014-11-02</th>\n",
       "      <td>2.418214</td>\n",
       "      <td>0.567361</td>\n",
       "    </tr>\n",
       "    <tr>\n",
       "      <th>2014-11-03</th>\n",
       "      <td>0.891612</td>\n",
       "      <td>-0.836017</td>\n",
       "    </tr>\n",
       "    <tr>\n",
       "      <th>2014-11-05</th>\n",
       "      <td>-0.272585</td>\n",
       "      <td>0.122929</td>\n",
       "    </tr>\n",
       "  </tbody>\n",
       "</table>\n",
       "</div>"
      ],
      "text/plain": [
       "                 one     three\n",
       "2014-11-02  2.418214  0.567361\n",
       "2014-11-03  0.891612 -0.836017\n",
       "2014-11-05 -0.272585  0.122929"
      ]
     },
     "execution_count": 27,
     "metadata": {},
     "output_type": "execute_result"
    }
   ],
   "source": [
    "df.iloc[[1,2,4],[0,2]]"
   ]
  },
  {
   "cell_type": "markdown",
   "metadata": {
    "_cell_guid": "4205069b-9b81-4015-8113-80e5997ed02a",
    "_uuid": "1f65376861105ccf80d8230b7518ec631e869383"
   },
   "source": [
    "## Boolean Indexing\n",
    "Using a single column’s values to select data."
   ]
  },
  {
   "cell_type": "code",
   "execution_count": 28,
   "metadata": {},
   "outputs": [
    {
     "data": {
      "text/html": [
       "<div>\n",
       "<style scoped>\n",
       "    .dataframe tbody tr th:only-of-type {\n",
       "        vertical-align: middle;\n",
       "    }\n",
       "\n",
       "    .dataframe tbody tr th {\n",
       "        vertical-align: top;\n",
       "    }\n",
       "\n",
       "    .dataframe thead th {\n",
       "        text-align: right;\n",
       "    }\n",
       "</style>\n",
       "<table border=\"1\" class=\"dataframe\">\n",
       "  <thead>\n",
       "    <tr style=\"text-align: right;\">\n",
       "      <th></th>\n",
       "      <th>one</th>\n",
       "      <th>two</th>\n",
       "      <th>three</th>\n",
       "      <th>four</th>\n",
       "    </tr>\n",
       "  </thead>\n",
       "  <tbody>\n",
       "    <tr>\n",
       "      <th>2014-11-01</th>\n",
       "      <td>-1.098893</td>\n",
       "      <td>-1.177668</td>\n",
       "      <td>0.910219</td>\n",
       "      <td>-1.143961</td>\n",
       "    </tr>\n",
       "    <tr>\n",
       "      <th>2014-11-02</th>\n",
       "      <td>2.418214</td>\n",
       "      <td>1.134130</td>\n",
       "      <td>0.567361</td>\n",
       "      <td>0.921225</td>\n",
       "    </tr>\n",
       "    <tr>\n",
       "      <th>2014-11-03</th>\n",
       "      <td>0.891612</td>\n",
       "      <td>1.293983</td>\n",
       "      <td>-0.836017</td>\n",
       "      <td>-1.487740</td>\n",
       "    </tr>\n",
       "    <tr>\n",
       "      <th>2014-11-04</th>\n",
       "      <td>1.107417</td>\n",
       "      <td>-0.111957</td>\n",
       "      <td>0.618144</td>\n",
       "      <td>-0.382438</td>\n",
       "    </tr>\n",
       "    <tr>\n",
       "      <th>2014-11-05</th>\n",
       "      <td>-0.272585</td>\n",
       "      <td>-0.948973</td>\n",
       "      <td>0.122929</td>\n",
       "      <td>-0.909909</td>\n",
       "    </tr>\n",
       "    <tr>\n",
       "      <th>2014-11-06</th>\n",
       "      <td>0.064267</td>\n",
       "      <td>1.262345</td>\n",
       "      <td>0.961092</td>\n",
       "      <td>1.683544</td>\n",
       "    </tr>\n",
       "  </tbody>\n",
       "</table>\n",
       "</div>"
      ],
      "text/plain": [
       "                 one       two     three      four\n",
       "2014-11-01 -1.098893 -1.177668  0.910219 -1.143961\n",
       "2014-11-02  2.418214  1.134130  0.567361  0.921225\n",
       "2014-11-03  0.891612  1.293983 -0.836017 -1.487740\n",
       "2014-11-04  1.107417 -0.111957  0.618144 -0.382438\n",
       "2014-11-05 -0.272585 -0.948973  0.122929 -0.909909\n",
       "2014-11-06  0.064267  1.262345  0.961092  1.683544"
      ]
     },
     "execution_count": 28,
     "metadata": {},
     "output_type": "execute_result"
    }
   ],
   "source": [
    "df"
   ]
  },
  {
   "cell_type": "code",
   "execution_count": 29,
   "metadata": {},
   "outputs": [
    {
     "data": {
      "text/html": [
       "<div>\n",
       "<style scoped>\n",
       "    .dataframe tbody tr th:only-of-type {\n",
       "        vertical-align: middle;\n",
       "    }\n",
       "\n",
       "    .dataframe tbody tr th {\n",
       "        vertical-align: top;\n",
       "    }\n",
       "\n",
       "    .dataframe thead th {\n",
       "        text-align: right;\n",
       "    }\n",
       "</style>\n",
       "<table border=\"1\" class=\"dataframe\">\n",
       "  <thead>\n",
       "    <tr style=\"text-align: right;\">\n",
       "      <th></th>\n",
       "      <th>one</th>\n",
       "      <th>two</th>\n",
       "      <th>three</th>\n",
       "      <th>four</th>\n",
       "    </tr>\n",
       "  </thead>\n",
       "  <tbody>\n",
       "    <tr>\n",
       "      <th>2014-11-02</th>\n",
       "      <td>2.418214</td>\n",
       "      <td>1.134130</td>\n",
       "      <td>0.567361</td>\n",
       "      <td>0.921225</td>\n",
       "    </tr>\n",
       "    <tr>\n",
       "      <th>2014-11-03</th>\n",
       "      <td>0.891612</td>\n",
       "      <td>1.293983</td>\n",
       "      <td>-0.836017</td>\n",
       "      <td>-1.487740</td>\n",
       "    </tr>\n",
       "    <tr>\n",
       "      <th>2014-11-04</th>\n",
       "      <td>1.107417</td>\n",
       "      <td>-0.111957</td>\n",
       "      <td>0.618144</td>\n",
       "      <td>-0.382438</td>\n",
       "    </tr>\n",
       "    <tr>\n",
       "      <th>2014-11-06</th>\n",
       "      <td>0.064267</td>\n",
       "      <td>1.262345</td>\n",
       "      <td>0.961092</td>\n",
       "      <td>1.683544</td>\n",
       "    </tr>\n",
       "  </tbody>\n",
       "</table>\n",
       "</div>"
      ],
      "text/plain": [
       "                 one       two     three      four\n",
       "2014-11-02  2.418214  1.134130  0.567361  0.921225\n",
       "2014-11-03  0.891612  1.293983 -0.836017 -1.487740\n",
       "2014-11-04  1.107417 -0.111957  0.618144 -0.382438\n",
       "2014-11-06  0.064267  1.262345  0.961092  1.683544"
      ]
     },
     "execution_count": 29,
     "metadata": {},
     "output_type": "execute_result"
    }
   ],
   "source": [
    "df[df.one>0]"
   ]
  },
  {
   "cell_type": "code",
   "execution_count": 30,
   "metadata": {
    "_cell_guid": "b7d6f231-8fca-4b94-b4da-7e1077bfc1c6",
    "_uuid": "0897ab764824072dc3d6d45bc03c70f1f29c6833"
   },
   "outputs": [
    {
     "data": {
      "text/html": [
       "<div>\n",
       "<style scoped>\n",
       "    .dataframe tbody tr th:only-of-type {\n",
       "        vertical-align: middle;\n",
       "    }\n",
       "\n",
       "    .dataframe tbody tr th {\n",
       "        vertical-align: top;\n",
       "    }\n",
       "\n",
       "    .dataframe thead th {\n",
       "        text-align: right;\n",
       "    }\n",
       "</style>\n",
       "<table border=\"1\" class=\"dataframe\">\n",
       "  <thead>\n",
       "    <tr style=\"text-align: right;\">\n",
       "      <th></th>\n",
       "      <th>one</th>\n",
       "      <th>two</th>\n",
       "      <th>three</th>\n",
       "      <th>four</th>\n",
       "    </tr>\n",
       "  </thead>\n",
       "  <tbody>\n",
       "    <tr>\n",
       "      <th>2014-11-03</th>\n",
       "      <td>0.891612</td>\n",
       "      <td>1.293983</td>\n",
       "      <td>-0.836017</td>\n",
       "      <td>-1.487740</td>\n",
       "    </tr>\n",
       "    <tr>\n",
       "      <th>2014-11-06</th>\n",
       "      <td>0.064267</td>\n",
       "      <td>1.262345</td>\n",
       "      <td>0.961092</td>\n",
       "      <td>1.683544</td>\n",
       "    </tr>\n",
       "  </tbody>\n",
       "</table>\n",
       "</div>"
      ],
      "text/plain": [
       "                 one       two     three      four\n",
       "2014-11-03  0.891612  1.293983 -0.836017 -1.487740\n",
       "2014-11-06  0.064267  1.262345  0.961092  1.683544"
      ]
     },
     "execution_count": 30,
     "metadata": {},
     "output_type": "execute_result"
    }
   ],
   "source": [
    "df[df.two > df.one]"
   ]
  },
  {
   "cell_type": "markdown",
   "metadata": {
    "_cell_guid": "0d9b0104-071e-4b67-a28c-af0a3b5298c5",
    "_uuid": "152e38c5f8c9b1623f719b3d733d4a7dd83d37bd"
   },
   "source": [
    "Using the isin method for filtering:"
   ]
  },
  {
   "cell_type": "code",
   "execution_count": 31,
   "metadata": {
    "_cell_guid": "81efdb26-8d6d-4d30-8095-0212e2068bd7",
    "_uuid": "ac6deb8efac6fea270befc2c5a444825de86a270"
   },
   "outputs": [
    {
     "data": {
      "text/html": [
       "<div>\n",
       "<style scoped>\n",
       "    .dataframe tbody tr th:only-of-type {\n",
       "        vertical-align: middle;\n",
       "    }\n",
       "\n",
       "    .dataframe tbody tr th {\n",
       "        vertical-align: top;\n",
       "    }\n",
       "\n",
       "    .dataframe thead th {\n",
       "        text-align: right;\n",
       "    }\n",
       "</style>\n",
       "<table border=\"1\" class=\"dataframe\">\n",
       "  <thead>\n",
       "    <tr style=\"text-align: right;\">\n",
       "      <th></th>\n",
       "      <th>one</th>\n",
       "      <th>two</th>\n",
       "      <th>three</th>\n",
       "      <th>four</th>\n",
       "      <th>five</th>\n",
       "    </tr>\n",
       "  </thead>\n",
       "  <tbody>\n",
       "    <tr>\n",
       "      <th>2014-11-01</th>\n",
       "      <td>-1.098893</td>\n",
       "      <td>-1.177668</td>\n",
       "      <td>0.910219</td>\n",
       "      <td>-1.143961</td>\n",
       "      <td>one</td>\n",
       "    </tr>\n",
       "    <tr>\n",
       "      <th>2014-11-02</th>\n",
       "      <td>2.418214</td>\n",
       "      <td>1.134130</td>\n",
       "      <td>0.567361</td>\n",
       "      <td>0.921225</td>\n",
       "      <td>one</td>\n",
       "    </tr>\n",
       "    <tr>\n",
       "      <th>2014-11-03</th>\n",
       "      <td>0.891612</td>\n",
       "      <td>1.293983</td>\n",
       "      <td>-0.836017</td>\n",
       "      <td>-1.487740</td>\n",
       "      <td>two</td>\n",
       "    </tr>\n",
       "    <tr>\n",
       "      <th>2014-11-04</th>\n",
       "      <td>1.107417</td>\n",
       "      <td>-0.111957</td>\n",
       "      <td>0.618144</td>\n",
       "      <td>-0.382438</td>\n",
       "      <td>three</td>\n",
       "    </tr>\n",
       "    <tr>\n",
       "      <th>2014-11-05</th>\n",
       "      <td>-0.272585</td>\n",
       "      <td>-0.948973</td>\n",
       "      <td>0.122929</td>\n",
       "      <td>-0.909909</td>\n",
       "      <td>four</td>\n",
       "    </tr>\n",
       "    <tr>\n",
       "      <th>2014-11-06</th>\n",
       "      <td>0.064267</td>\n",
       "      <td>1.262345</td>\n",
       "      <td>0.961092</td>\n",
       "      <td>1.683544</td>\n",
       "      <td>three</td>\n",
       "    </tr>\n",
       "  </tbody>\n",
       "</table>\n",
       "</div>"
      ],
      "text/plain": [
       "                 one       two     three      four   five\n",
       "2014-11-01 -1.098893 -1.177668  0.910219 -1.143961    one\n",
       "2014-11-02  2.418214  1.134130  0.567361  0.921225    one\n",
       "2014-11-03  0.891612  1.293983 -0.836017 -1.487740    two\n",
       "2014-11-04  1.107417 -0.111957  0.618144 -0.382438  three\n",
       "2014-11-05 -0.272585 -0.948973  0.122929 -0.909909   four\n",
       "2014-11-06  0.064267  1.262345  0.961092  1.683544  three"
      ]
     },
     "execution_count": 31,
     "metadata": {},
     "output_type": "execute_result"
    }
   ],
   "source": [
    "df2 = df.copy()\n",
    "df2['five'] = ['one', 'one','two','three','four','three']\n",
    "df2"
   ]
  },
  {
   "cell_type": "code",
   "execution_count": 32,
   "metadata": {},
   "outputs": [
    {
     "data": {
      "text/html": [
       "<div>\n",
       "<style scoped>\n",
       "    .dataframe tbody tr th:only-of-type {\n",
       "        vertical-align: middle;\n",
       "    }\n",
       "\n",
       "    .dataframe tbody tr th {\n",
       "        vertical-align: top;\n",
       "    }\n",
       "\n",
       "    .dataframe thead th {\n",
       "        text-align: right;\n",
       "    }\n",
       "</style>\n",
       "<table border=\"1\" class=\"dataframe\">\n",
       "  <thead>\n",
       "    <tr style=\"text-align: right;\">\n",
       "      <th></th>\n",
       "      <th>one</th>\n",
       "      <th>two</th>\n",
       "      <th>three</th>\n",
       "      <th>four</th>\n",
       "      <th>five</th>\n",
       "    </tr>\n",
       "  </thead>\n",
       "  <tbody>\n",
       "    <tr>\n",
       "      <th>2014-11-01</th>\n",
       "      <td>-1.098893</td>\n",
       "      <td>-1.177668</td>\n",
       "      <td>0.910219</td>\n",
       "      <td>-1.143961</td>\n",
       "      <td>one</td>\n",
       "    </tr>\n",
       "    <tr>\n",
       "      <th>2014-11-02</th>\n",
       "      <td>2.418214</td>\n",
       "      <td>1.134130</td>\n",
       "      <td>0.567361</td>\n",
       "      <td>0.921225</td>\n",
       "      <td>one</td>\n",
       "    </tr>\n",
       "    <tr>\n",
       "      <th>2014-11-05</th>\n",
       "      <td>-0.272585</td>\n",
       "      <td>-0.948973</td>\n",
       "      <td>0.122929</td>\n",
       "      <td>-0.909909</td>\n",
       "      <td>four</td>\n",
       "    </tr>\n",
       "  </tbody>\n",
       "</table>\n",
       "</div>"
      ],
      "text/plain": [
       "                 one       two     three      four  five\n",
       "2014-11-01 -1.098893 -1.177668  0.910219 -1.143961   one\n",
       "2014-11-02  2.418214  1.134130  0.567361  0.921225   one\n",
       "2014-11-05 -0.272585 -0.948973  0.122929 -0.909909  four"
      ]
     },
     "execution_count": 32,
     "metadata": {},
     "output_type": "execute_result"
    }
   ],
   "source": [
    "df2[(df2['five']=='one') | (df2['five']=='four')]"
   ]
  },
  {
   "cell_type": "code",
   "execution_count": 33,
   "metadata": {
    "_cell_guid": "b8a6507a-ab97-4884-ad6b-86ce08b562b1",
    "_uuid": "1057b0c34eae282d8b234583497a6e9d53a254f5"
   },
   "outputs": [
    {
     "data": {
      "text/html": [
       "<div>\n",
       "<style scoped>\n",
       "    .dataframe tbody tr th:only-of-type {\n",
       "        vertical-align: middle;\n",
       "    }\n",
       "\n",
       "    .dataframe tbody tr th {\n",
       "        vertical-align: top;\n",
       "    }\n",
       "\n",
       "    .dataframe thead th {\n",
       "        text-align: right;\n",
       "    }\n",
       "</style>\n",
       "<table border=\"1\" class=\"dataframe\">\n",
       "  <thead>\n",
       "    <tr style=\"text-align: right;\">\n",
       "      <th></th>\n",
       "      <th>one</th>\n",
       "      <th>two</th>\n",
       "      <th>three</th>\n",
       "      <th>four</th>\n",
       "      <th>five</th>\n",
       "    </tr>\n",
       "  </thead>\n",
       "  <tbody>\n",
       "    <tr>\n",
       "      <th>2014-11-01</th>\n",
       "      <td>-1.098893</td>\n",
       "      <td>-1.177668</td>\n",
       "      <td>0.910219</td>\n",
       "      <td>-1.143961</td>\n",
       "      <td>one</td>\n",
       "    </tr>\n",
       "    <tr>\n",
       "      <th>2014-11-02</th>\n",
       "      <td>2.418214</td>\n",
       "      <td>1.134130</td>\n",
       "      <td>0.567361</td>\n",
       "      <td>0.921225</td>\n",
       "      <td>one</td>\n",
       "    </tr>\n",
       "    <tr>\n",
       "      <th>2014-11-04</th>\n",
       "      <td>1.107417</td>\n",
       "      <td>-0.111957</td>\n",
       "      <td>0.618144</td>\n",
       "      <td>-0.382438</td>\n",
       "      <td>three</td>\n",
       "    </tr>\n",
       "    <tr>\n",
       "      <th>2014-11-05</th>\n",
       "      <td>-0.272585</td>\n",
       "      <td>-0.948973</td>\n",
       "      <td>0.122929</td>\n",
       "      <td>-0.909909</td>\n",
       "      <td>four</td>\n",
       "    </tr>\n",
       "    <tr>\n",
       "      <th>2014-11-06</th>\n",
       "      <td>0.064267</td>\n",
       "      <td>1.262345</td>\n",
       "      <td>0.961092</td>\n",
       "      <td>1.683544</td>\n",
       "      <td>three</td>\n",
       "    </tr>\n",
       "  </tbody>\n",
       "</table>\n",
       "</div>"
      ],
      "text/plain": [
       "                 one       two     three      four   five\n",
       "2014-11-01 -1.098893 -1.177668  0.910219 -1.143961    one\n",
       "2014-11-02  2.418214  1.134130  0.567361  0.921225    one\n",
       "2014-11-04  1.107417 -0.111957  0.618144 -0.382438  three\n",
       "2014-11-05 -0.272585 -0.948973  0.122929 -0.909909   four\n",
       "2014-11-06  0.064267  1.262345  0.961092  1.683544  three"
      ]
     },
     "execution_count": 33,
     "metadata": {},
     "output_type": "execute_result"
    }
   ],
   "source": [
    "df2[df2['five'].isin(['one','four','three'])]"
   ]
  },
  {
   "cell_type": "markdown",
   "metadata": {
    "_cell_guid": "b6eff184-f774-4668-a5fa-2eb792a8ee19",
    "_uuid": "36dc62173e385467dca8e0b12398ce00cd3bc7c9"
   },
   "source": [
    "## Setting\n",
    "Setting a new column automatically aligns the data by the indexes"
   ]
  },
  {
   "cell_type": "code",
   "execution_count": 34,
   "metadata": {
    "_cell_guid": "4d61f140-af66-4b4c-9296-17e243bf4991",
    "_uuid": "c0f9338b687ee3fb7b535f772955de1cb232e10e"
   },
   "outputs": [
    {
     "data": {
      "text/plain": [
       "2014-11-01    1\n",
       "2014-11-02    2\n",
       "2014-11-03    3\n",
       "2014-11-04    4\n",
       "2014-11-05    5\n",
       "2014-11-06    6\n",
       "Freq: D, dtype: int64"
      ]
     },
     "execution_count": 34,
     "metadata": {},
     "output_type": "execute_result"
    }
   ],
   "source": [
    "s1 = pd.Series([1,2,3,4,5,6], index=pd.date_range('20141101', periods=6))\n",
    "s1"
   ]
  },
  {
   "cell_type": "code",
   "execution_count": 35,
   "metadata": {
    "_cell_guid": "ef2e599f-68db-48c8-b750-e8f5143fe407",
    "_uuid": "6f01ca50121e0d9289c675ea6de02a716ae66dfb"
   },
   "outputs": [
    {
     "data": {
      "text/html": [
       "<div>\n",
       "<style scoped>\n",
       "    .dataframe tbody tr th:only-of-type {\n",
       "        vertical-align: middle;\n",
       "    }\n",
       "\n",
       "    .dataframe tbody tr th {\n",
       "        vertical-align: top;\n",
       "    }\n",
       "\n",
       "    .dataframe thead th {\n",
       "        text-align: right;\n",
       "    }\n",
       "</style>\n",
       "<table border=\"1\" class=\"dataframe\">\n",
       "  <thead>\n",
       "    <tr style=\"text-align: right;\">\n",
       "      <th></th>\n",
       "      <th>one</th>\n",
       "      <th>two</th>\n",
       "      <th>three</th>\n",
       "      <th>four</th>\n",
       "      <th>six</th>\n",
       "    </tr>\n",
       "  </thead>\n",
       "  <tbody>\n",
       "    <tr>\n",
       "      <th>2014-11-01</th>\n",
       "      <td>-1.098893</td>\n",
       "      <td>-1.177668</td>\n",
       "      <td>0.910219</td>\n",
       "      <td>-1.143961</td>\n",
       "      <td>1</td>\n",
       "    </tr>\n",
       "    <tr>\n",
       "      <th>2014-11-02</th>\n",
       "      <td>2.418214</td>\n",
       "      <td>1.134130</td>\n",
       "      <td>0.567361</td>\n",
       "      <td>0.921225</td>\n",
       "      <td>2</td>\n",
       "    </tr>\n",
       "    <tr>\n",
       "      <th>2014-11-03</th>\n",
       "      <td>0.891612</td>\n",
       "      <td>1.293983</td>\n",
       "      <td>-0.836017</td>\n",
       "      <td>-1.487740</td>\n",
       "      <td>3</td>\n",
       "    </tr>\n",
       "    <tr>\n",
       "      <th>2014-11-04</th>\n",
       "      <td>1.107417</td>\n",
       "      <td>-0.111957</td>\n",
       "      <td>0.618144</td>\n",
       "      <td>-0.382438</td>\n",
       "      <td>4</td>\n",
       "    </tr>\n",
       "    <tr>\n",
       "      <th>2014-11-05</th>\n",
       "      <td>-0.272585</td>\n",
       "      <td>-0.948973</td>\n",
       "      <td>0.122929</td>\n",
       "      <td>-0.909909</td>\n",
       "      <td>5</td>\n",
       "    </tr>\n",
       "    <tr>\n",
       "      <th>2014-11-06</th>\n",
       "      <td>0.064267</td>\n",
       "      <td>1.262345</td>\n",
       "      <td>0.961092</td>\n",
       "      <td>1.683544</td>\n",
       "      <td>6</td>\n",
       "    </tr>\n",
       "  </tbody>\n",
       "</table>\n",
       "</div>"
      ],
      "text/plain": [
       "                 one       two     three      four  six\n",
       "2014-11-01 -1.098893 -1.177668  0.910219 -1.143961    1\n",
       "2014-11-02  2.418214  1.134130  0.567361  0.921225    2\n",
       "2014-11-03  0.891612  1.293983 -0.836017 -1.487740    3\n",
       "2014-11-04  1.107417 -0.111957  0.618144 -0.382438    4\n",
       "2014-11-05 -0.272585 -0.948973  0.122929 -0.909909    5\n",
       "2014-11-06  0.064267  1.262345  0.961092  1.683544    6"
      ]
     },
     "execution_count": 35,
     "metadata": {},
     "output_type": "execute_result"
    }
   ],
   "source": [
    "df['six'] = s1\n",
    "df"
   ]
  },
  {
   "cell_type": "markdown",
   "metadata": {
    "_cell_guid": "4bab0a44-3ea1-4817-ae0e-233d159e74e5",
    "_uuid": "5481ab3311350209e065b43c612af4b85bee6a1d",
    "collapsed": true
   },
   "source": [
    "## Missing Data\n",
    "pandas primarily uses the value np.nan to represent missing data. It is by default not included in computations. See the [Missing Data section](https://pandas.pydata.org/pandas-docs/stable/missing_data.html#missing-data)\n",
    "\n",
    "Reindexing allows you to change/add/delete the index on a specified axis. This returns a copy of the data."
   ]
  },
  {
   "cell_type": "code",
   "execution_count": 36,
   "metadata": {
    "_cell_guid": "8ea992cf-a44c-48ba-8c29-772a76a62e25",
    "_uuid": "b34287e42a0e574b9ada0dd0660e7610bde2a4a2"
   },
   "outputs": [
    {
     "data": {
      "text/html": [
       "<div>\n",
       "<style scoped>\n",
       "    .dataframe tbody tr th:only-of-type {\n",
       "        vertical-align: middle;\n",
       "    }\n",
       "\n",
       "    .dataframe tbody tr th {\n",
       "        vertical-align: top;\n",
       "    }\n",
       "\n",
       "    .dataframe thead th {\n",
       "        text-align: right;\n",
       "    }\n",
       "</style>\n",
       "<table border=\"1\" class=\"dataframe\">\n",
       "  <thead>\n",
       "    <tr style=\"text-align: right;\">\n",
       "      <th></th>\n",
       "      <th>one</th>\n",
       "      <th>two</th>\n",
       "      <th>three</th>\n",
       "      <th>four</th>\n",
       "      <th>six</th>\n",
       "      <th>E</th>\n",
       "    </tr>\n",
       "  </thead>\n",
       "  <tbody>\n",
       "    <tr>\n",
       "      <th>2014-11-01</th>\n",
       "      <td>-1.098893</td>\n",
       "      <td>-1.177668</td>\n",
       "      <td>0.910219</td>\n",
       "      <td>-1.143961</td>\n",
       "      <td>1</td>\n",
       "      <td>1.0</td>\n",
       "    </tr>\n",
       "    <tr>\n",
       "      <th>2014-11-02</th>\n",
       "      <td>2.418214</td>\n",
       "      <td>1.134130</td>\n",
       "      <td>0.567361</td>\n",
       "      <td>0.921225</td>\n",
       "      <td>2</td>\n",
       "      <td>1.0</td>\n",
       "    </tr>\n",
       "    <tr>\n",
       "      <th>2014-11-03</th>\n",
       "      <td>0.891612</td>\n",
       "      <td>1.293983</td>\n",
       "      <td>-0.836017</td>\n",
       "      <td>-1.487740</td>\n",
       "      <td>3</td>\n",
       "      <td>NaN</td>\n",
       "    </tr>\n",
       "    <tr>\n",
       "      <th>2014-11-04</th>\n",
       "      <td>1.107417</td>\n",
       "      <td>-0.111957</td>\n",
       "      <td>0.618144</td>\n",
       "      <td>-0.382438</td>\n",
       "      <td>4</td>\n",
       "      <td>NaN</td>\n",
       "    </tr>\n",
       "  </tbody>\n",
       "</table>\n",
       "</div>"
      ],
      "text/plain": [
       "                 one       two     three      four  six    E\n",
       "2014-11-01 -1.098893 -1.177668  0.910219 -1.143961    1  1.0\n",
       "2014-11-02  2.418214  1.134130  0.567361  0.921225    2  1.0\n",
       "2014-11-03  0.891612  1.293983 -0.836017 -1.487740    3  NaN\n",
       "2014-11-04  1.107417 -0.111957  0.618144 -0.382438    4  NaN"
      ]
     },
     "execution_count": 36,
     "metadata": {},
     "output_type": "execute_result"
    }
   ],
   "source": [
    "df1 = df.reindex(index=dates[0:4], columns=list(df.columns) + ['E'])\n",
    "df1.loc[dates[0]:dates[1],'E'] = 1\n",
    "df1"
   ]
  },
  {
   "cell_type": "markdown",
   "metadata": {
    "_cell_guid": "7e0319e8-fc11-4556-a0e6-4bc520b2179f",
    "_uuid": "46eaf209fd3122be95d2ef0804dc8bd665794205"
   },
   "source": [
    "To drop any rows that have missing data:"
   ]
  },
  {
   "cell_type": "code",
   "execution_count": 37,
   "metadata": {
    "_cell_guid": "9c118c95-34b0-4a03-9ae6-4a4e2fb3ab52",
    "_uuid": "be778687edde438a54f9378d59f532c9fe9d87da"
   },
   "outputs": [
    {
     "data": {
      "text/html": [
       "<div>\n",
       "<style scoped>\n",
       "    .dataframe tbody tr th:only-of-type {\n",
       "        vertical-align: middle;\n",
       "    }\n",
       "\n",
       "    .dataframe tbody tr th {\n",
       "        vertical-align: top;\n",
       "    }\n",
       "\n",
       "    .dataframe thead th {\n",
       "        text-align: right;\n",
       "    }\n",
       "</style>\n",
       "<table border=\"1\" class=\"dataframe\">\n",
       "  <thead>\n",
       "    <tr style=\"text-align: right;\">\n",
       "      <th></th>\n",
       "      <th>one</th>\n",
       "      <th>two</th>\n",
       "      <th>three</th>\n",
       "      <th>four</th>\n",
       "      <th>six</th>\n",
       "      <th>E</th>\n",
       "    </tr>\n",
       "  </thead>\n",
       "  <tbody>\n",
       "    <tr>\n",
       "      <th>2014-11-01</th>\n",
       "      <td>-1.098893</td>\n",
       "      <td>-1.177668</td>\n",
       "      <td>0.910219</td>\n",
       "      <td>-1.143961</td>\n",
       "      <td>1</td>\n",
       "      <td>1.0</td>\n",
       "    </tr>\n",
       "    <tr>\n",
       "      <th>2014-11-02</th>\n",
       "      <td>2.418214</td>\n",
       "      <td>1.134130</td>\n",
       "      <td>0.567361</td>\n",
       "      <td>0.921225</td>\n",
       "      <td>2</td>\n",
       "      <td>1.0</td>\n",
       "    </tr>\n",
       "  </tbody>\n",
       "</table>\n",
       "</div>"
      ],
      "text/plain": [
       "                 one       two     three      four  six    E\n",
       "2014-11-01 -1.098893 -1.177668  0.910219 -1.143961    1  1.0\n",
       "2014-11-02  2.418214  1.134130  0.567361  0.921225    2  1.0"
      ]
     },
     "execution_count": 37,
     "metadata": {},
     "output_type": "execute_result"
    }
   ],
   "source": [
    "df1.dropna(how='any')"
   ]
  },
  {
   "cell_type": "markdown",
   "metadata": {
    "_cell_guid": "b833f8bd-684d-42d6-babb-6a2d02257757",
    "_uuid": "8a107a35dfb6b1f888a3760b1ddc1a2fc8ef1eae"
   },
   "source": [
    "Filling missing data:"
   ]
  },
  {
   "cell_type": "code",
   "execution_count": 38,
   "metadata": {},
   "outputs": [
    {
     "data": {
      "text/html": [
       "<div>\n",
       "<style scoped>\n",
       "    .dataframe tbody tr th:only-of-type {\n",
       "        vertical-align: middle;\n",
       "    }\n",
       "\n",
       "    .dataframe tbody tr th {\n",
       "        vertical-align: top;\n",
       "    }\n",
       "\n",
       "    .dataframe thead th {\n",
       "        text-align: right;\n",
       "    }\n",
       "</style>\n",
       "<table border=\"1\" class=\"dataframe\">\n",
       "  <thead>\n",
       "    <tr style=\"text-align: right;\">\n",
       "      <th></th>\n",
       "      <th>one</th>\n",
       "      <th>two</th>\n",
       "      <th>three</th>\n",
       "      <th>four</th>\n",
       "      <th>six</th>\n",
       "      <th>E</th>\n",
       "    </tr>\n",
       "  </thead>\n",
       "  <tbody>\n",
       "    <tr>\n",
       "      <th>2014-11-01</th>\n",
       "      <td>-1.098893</td>\n",
       "      <td>-1.177668</td>\n",
       "      <td>0.910219</td>\n",
       "      <td>-1.143961</td>\n",
       "      <td>1</td>\n",
       "      <td>1.0</td>\n",
       "    </tr>\n",
       "    <tr>\n",
       "      <th>2014-11-02</th>\n",
       "      <td>2.418214</td>\n",
       "      <td>1.134130</td>\n",
       "      <td>0.567361</td>\n",
       "      <td>0.921225</td>\n",
       "      <td>2</td>\n",
       "      <td>1.0</td>\n",
       "    </tr>\n",
       "    <tr>\n",
       "      <th>2014-11-03</th>\n",
       "      <td>0.891612</td>\n",
       "      <td>1.293983</td>\n",
       "      <td>-0.836017</td>\n",
       "      <td>-1.487740</td>\n",
       "      <td>3</td>\n",
       "      <td>NaN</td>\n",
       "    </tr>\n",
       "    <tr>\n",
       "      <th>2014-11-04</th>\n",
       "      <td>1.107417</td>\n",
       "      <td>-0.111957</td>\n",
       "      <td>0.618144</td>\n",
       "      <td>-0.382438</td>\n",
       "      <td>4</td>\n",
       "      <td>NaN</td>\n",
       "    </tr>\n",
       "  </tbody>\n",
       "</table>\n",
       "</div>"
      ],
      "text/plain": [
       "                 one       two     three      four  six    E\n",
       "2014-11-01 -1.098893 -1.177668  0.910219 -1.143961    1  1.0\n",
       "2014-11-02  2.418214  1.134130  0.567361  0.921225    2  1.0\n",
       "2014-11-03  0.891612  1.293983 -0.836017 -1.487740    3  NaN\n",
       "2014-11-04  1.107417 -0.111957  0.618144 -0.382438    4  NaN"
      ]
     },
     "execution_count": 38,
     "metadata": {},
     "output_type": "execute_result"
    }
   ],
   "source": [
    "df1"
   ]
  },
  {
   "cell_type": "code",
   "execution_count": 39,
   "metadata": {
    "_cell_guid": "f2521f7e-c916-4de2-abb5-c9c5ebebc600",
    "_uuid": "a5089cfe6c94a390800d4ebc997f143f5c000e8e"
   },
   "outputs": [
    {
     "data": {
      "text/html": [
       "<div>\n",
       "<style scoped>\n",
       "    .dataframe tbody tr th:only-of-type {\n",
       "        vertical-align: middle;\n",
       "    }\n",
       "\n",
       "    .dataframe tbody tr th {\n",
       "        vertical-align: top;\n",
       "    }\n",
       "\n",
       "    .dataframe thead th {\n",
       "        text-align: right;\n",
       "    }\n",
       "</style>\n",
       "<table border=\"1\" class=\"dataframe\">\n",
       "  <thead>\n",
       "    <tr style=\"text-align: right;\">\n",
       "      <th></th>\n",
       "      <th>one</th>\n",
       "      <th>two</th>\n",
       "      <th>three</th>\n",
       "      <th>four</th>\n",
       "      <th>six</th>\n",
       "      <th>E</th>\n",
       "    </tr>\n",
       "  </thead>\n",
       "  <tbody>\n",
       "    <tr>\n",
       "      <th>2014-11-01</th>\n",
       "      <td>-1.098893</td>\n",
       "      <td>-1.177668</td>\n",
       "      <td>0.910219</td>\n",
       "      <td>-1.143961</td>\n",
       "      <td>1</td>\n",
       "      <td>1.0</td>\n",
       "    </tr>\n",
       "    <tr>\n",
       "      <th>2014-11-02</th>\n",
       "      <td>2.418214</td>\n",
       "      <td>1.134130</td>\n",
       "      <td>0.567361</td>\n",
       "      <td>0.921225</td>\n",
       "      <td>2</td>\n",
       "      <td>1.0</td>\n",
       "    </tr>\n",
       "    <tr>\n",
       "      <th>2014-11-03</th>\n",
       "      <td>0.891612</td>\n",
       "      <td>1.293983</td>\n",
       "      <td>-0.836017</td>\n",
       "      <td>-1.487740</td>\n",
       "      <td>3</td>\n",
       "      <td>5.0</td>\n",
       "    </tr>\n",
       "    <tr>\n",
       "      <th>2014-11-04</th>\n",
       "      <td>1.107417</td>\n",
       "      <td>-0.111957</td>\n",
       "      <td>0.618144</td>\n",
       "      <td>-0.382438</td>\n",
       "      <td>4</td>\n",
       "      <td>5.0</td>\n",
       "    </tr>\n",
       "  </tbody>\n",
       "</table>\n",
       "</div>"
      ],
      "text/plain": [
       "                 one       two     three      four  six    E\n",
       "2014-11-01 -1.098893 -1.177668  0.910219 -1.143961    1  1.0\n",
       "2014-11-02  2.418214  1.134130  0.567361  0.921225    2  1.0\n",
       "2014-11-03  0.891612  1.293983 -0.836017 -1.487740    3  5.0\n",
       "2014-11-04  1.107417 -0.111957  0.618144 -0.382438    4  5.0"
      ]
     },
     "execution_count": 39,
     "metadata": {},
     "output_type": "execute_result"
    }
   ],
   "source": [
    "df1.fillna(value=5)"
   ]
  },
  {
   "cell_type": "code",
   "execution_count": 40,
   "metadata": {},
   "outputs": [],
   "source": [
    "df1['E'] = df1['E'].fillna(4)"
   ]
  },
  {
   "cell_type": "code",
   "execution_count": 41,
   "metadata": {},
   "outputs": [],
   "source": [
    "df1['E'] = 3"
   ]
  },
  {
   "cell_type": "markdown",
   "metadata": {
    "_cell_guid": "02f262f9-27dd-4e4e-9c6d-030c23123e90",
    "_uuid": "3f1f384adbd5d3081028c45a797f6ab1f0174490"
   },
   "source": [
    "## Operations\n",
    "See the [Basic section on Binary Ops](https://pandas.pydata.org/pandas-docs/stable/basics.html#basics-binop)"
   ]
  },
  {
   "cell_type": "markdown",
   "metadata": {
    "_cell_guid": "a599044b-97a5-4ff1-ac07-d2205c9bd275",
    "_uuid": "7dd84063efa95105e26e900a85b3b593c5f79406"
   },
   "source": [
    "### Stats\n",
    "Operations in general *exclude* missing data.\n",
    "\n",
    "Performing a descriptive statistic:"
   ]
  },
  {
   "cell_type": "code",
   "execution_count": 42,
   "metadata": {
    "_cell_guid": "873b0539-d75a-4d8f-81e2-42c1ee70f945",
    "_uuid": "18a53af2b3fcb793e6c52ddfabc3bf4b01edc3ae"
   },
   "outputs": [
    {
     "data": {
      "text/plain": [
       "one      0.518339\n",
       "two      0.241977\n",
       "three    0.390621\n",
       "four    -0.219880\n",
       "six      3.500000\n",
       "dtype: float64"
      ]
     },
     "execution_count": 42,
     "metadata": {},
     "output_type": "execute_result"
    }
   ],
   "source": [
    "df.mean()"
   ]
  },
  {
   "cell_type": "markdown",
   "metadata": {
    "_cell_guid": "20530588-c864-428f-aad0-4ad48a3df1e5",
    "_uuid": "f066371c33bd242c801bb35fb61caed24cff26f6"
   },
   "source": [
    "Same operation on the other axis:"
   ]
  },
  {
   "cell_type": "code",
   "execution_count": 43,
   "metadata": {
    "_cell_guid": "88cdbfa8-728c-4803-a400-5b348828e03e",
    "_uuid": "25a698388c134cb27fc648f76ecef27c12471fce"
   },
   "outputs": [
    {
     "data": {
      "text/plain": [
       "2014-11-01   -0.302060\n",
       "2014-11-02    1.408186\n",
       "2014-11-03    0.572368\n",
       "2014-11-04    1.046233\n",
       "2014-11-05    0.598292\n",
       "2014-11-06    1.994250\n",
       "Freq: D, dtype: float64"
      ]
     },
     "execution_count": 43,
     "metadata": {},
     "output_type": "execute_result"
    }
   ],
   "source": [
    "df.mean(1)"
   ]
  },
  {
   "cell_type": "markdown",
   "metadata": {
    "_cell_guid": "8a609a42-405f-4145-a258-2b2a1a836fa6",
    "_uuid": "a82c28ab38951a030fc5aaffc9229091af226cf8"
   },
   "source": [
    "### Apply\n",
    "Applying functions to the data"
   ]
  },
  {
   "cell_type": "code",
   "execution_count": 44,
   "metadata": {
    "_cell_guid": "ed25e76b-00c8-4f75-b8f2-a6b2669e264f",
    "_uuid": "0fdf92e9b753e997301f3d7c9e88941f87e086b1"
   },
   "outputs": [
    {
     "data": {
      "text/html": [
       "<div>\n",
       "<style scoped>\n",
       "    .dataframe tbody tr th:only-of-type {\n",
       "        vertical-align: middle;\n",
       "    }\n",
       "\n",
       "    .dataframe tbody tr th {\n",
       "        vertical-align: top;\n",
       "    }\n",
       "\n",
       "    .dataframe thead th {\n",
       "        text-align: right;\n",
       "    }\n",
       "</style>\n",
       "<table border=\"1\" class=\"dataframe\">\n",
       "  <thead>\n",
       "    <tr style=\"text-align: right;\">\n",
       "      <th></th>\n",
       "      <th>one</th>\n",
       "      <th>two</th>\n",
       "      <th>three</th>\n",
       "      <th>four</th>\n",
       "      <th>six</th>\n",
       "    </tr>\n",
       "  </thead>\n",
       "  <tbody>\n",
       "    <tr>\n",
       "      <th>2014-11-01</th>\n",
       "      <td>-1.098893</td>\n",
       "      <td>-1.177668</td>\n",
       "      <td>0.910219</td>\n",
       "      <td>-1.143961</td>\n",
       "      <td>1</td>\n",
       "    </tr>\n",
       "    <tr>\n",
       "      <th>2014-11-02</th>\n",
       "      <td>1.319321</td>\n",
       "      <td>-0.043538</td>\n",
       "      <td>1.477580</td>\n",
       "      <td>-0.222736</td>\n",
       "      <td>3</td>\n",
       "    </tr>\n",
       "    <tr>\n",
       "      <th>2014-11-03</th>\n",
       "      <td>2.210932</td>\n",
       "      <td>1.250445</td>\n",
       "      <td>0.641563</td>\n",
       "      <td>-1.710475</td>\n",
       "      <td>6</td>\n",
       "    </tr>\n",
       "    <tr>\n",
       "      <th>2014-11-04</th>\n",
       "      <td>3.318349</td>\n",
       "      <td>1.138489</td>\n",
       "      <td>1.259707</td>\n",
       "      <td>-2.092913</td>\n",
       "      <td>10</td>\n",
       "    </tr>\n",
       "    <tr>\n",
       "      <th>2014-11-05</th>\n",
       "      <td>3.045764</td>\n",
       "      <td>0.189515</td>\n",
       "      <td>1.382636</td>\n",
       "      <td>-3.002822</td>\n",
       "      <td>15</td>\n",
       "    </tr>\n",
       "    <tr>\n",
       "      <th>2014-11-06</th>\n",
       "      <td>3.110031</td>\n",
       "      <td>1.451861</td>\n",
       "      <td>2.343727</td>\n",
       "      <td>-1.319278</td>\n",
       "      <td>21</td>\n",
       "    </tr>\n",
       "  </tbody>\n",
       "</table>\n",
       "</div>"
      ],
      "text/plain": [
       "                 one       two     three      four  six\n",
       "2014-11-01 -1.098893 -1.177668  0.910219 -1.143961    1\n",
       "2014-11-02  1.319321 -0.043538  1.477580 -0.222736    3\n",
       "2014-11-03  2.210932  1.250445  0.641563 -1.710475    6\n",
       "2014-11-04  3.318349  1.138489  1.259707 -2.092913   10\n",
       "2014-11-05  3.045764  0.189515  1.382636 -3.002822   15\n",
       "2014-11-06  3.110031  1.451861  2.343727 -1.319278   21"
      ]
     },
     "execution_count": 44,
     "metadata": {},
     "output_type": "execute_result"
    }
   ],
   "source": [
    "df.apply(np.cumsum)"
   ]
  },
  {
   "cell_type": "markdown",
   "metadata": {
    "_cell_guid": "c29ce7af-9539-4857-9f41-0453d788992f",
    "_uuid": "f016b295830e32f680784dbe2f41b568215d9efb"
   },
   "source": [
    "### Histogramming \n",
    "See more at [Histogramming and Discretization](https://pandas.pydata.org/pandas-docs/stable/basics.html#basics-discretization)"
   ]
  },
  {
   "cell_type": "code",
   "execution_count": 45,
   "metadata": {
    "_cell_guid": "765ec7fe-83b0-4180-acdc-540a28422a85",
    "_uuid": "8cc61eeda690d11eefecf2116e28136020ca0003"
   },
   "outputs": [
    {
     "data": {
      "text/plain": [
       "0    0\n",
       "1    6\n",
       "2    4\n",
       "3    3\n",
       "4    4\n",
       "5    2\n",
       "6    6\n",
       "7    6\n",
       "8    3\n",
       "9    1\n",
       "dtype: int32"
      ]
     },
     "execution_count": 45,
     "metadata": {},
     "output_type": "execute_result"
    }
   ],
   "source": [
    "s = pd.Series(np.random.randint(0, 7, size=10))\n",
    "s"
   ]
  },
  {
   "cell_type": "code",
   "execution_count": 46,
   "metadata": {
    "_cell_guid": "cd3bda59-12a7-434c-9195-23c4dcba5b8b",
    "_uuid": "77963d7b3d63b8e939652cc2c114a0731baa359e"
   },
   "outputs": [
    {
     "data": {
      "text/plain": [
       "6    3\n",
       "4    2\n",
       "3    2\n",
       "2    1\n",
       "1    1\n",
       "0    1\n",
       "dtype: int64"
      ]
     },
     "execution_count": 46,
     "metadata": {},
     "output_type": "execute_result"
    }
   ],
   "source": [
    "s.value_counts()"
   ]
  },
  {
   "cell_type": "code",
   "execution_count": 47,
   "metadata": {},
   "outputs": [
    {
     "data": {
      "text/plain": [
       "6    0.3\n",
       "4    0.2\n",
       "3    0.2\n",
       "2    0.1\n",
       "1    0.1\n",
       "0    0.1\n",
       "dtype: float64"
      ]
     },
     "execution_count": 47,
     "metadata": {},
     "output_type": "execute_result"
    }
   ],
   "source": [
    "s.value_counts(normalize=True)"
   ]
  },
  {
   "cell_type": "markdown",
   "metadata": {
    "_cell_guid": "cb8c8038-acc7-4b09-8e70-3354521439e6",
    "_uuid": "e74ee3f403a6358e6658dcfae2f2909128d64130"
   },
   "source": [
    "### String Methods\n",
    "Series is equipped with a set of string processing methods in the str attribute that make it easy to operate on each element of the array, as in the code snippet below. Note that pattern-matching in str generally uses [regular expressions](https://docs.python.org/2/library/re.html) by default (and in some cases always uses them). See more at [Vectorized String Methods](https://pandas.pydata.org/pandas-docs/stable/text.html#text-string-methods)."
   ]
  },
  {
   "cell_type": "code",
   "execution_count": 48,
   "metadata": {
    "_cell_guid": "d6eb8ddf-f32a-406d-8d9e-bd0c0a76bdc9",
    "_uuid": "b74596be6dc4925c11bbc9552f52e0ab8a401b19"
   },
   "outputs": [
    {
     "data": {
      "text/plain": [
       "0       A\n",
       "1       B\n",
       "2       C\n",
       "3    Aaba\n",
       "4    Baca\n",
       "5     NaN\n",
       "6    CABA\n",
       "7     dog\n",
       "8     cat\n",
       "dtype: object"
      ]
     },
     "execution_count": 48,
     "metadata": {},
     "output_type": "execute_result"
    }
   ],
   "source": [
    "s = pd.Series(['A', 'B', 'C', 'Aaba', 'Baca', np.nan, 'CABA', 'dog', 'cat'])\n",
    "s"
   ]
  },
  {
   "cell_type": "code",
   "execution_count": 49,
   "metadata": {
    "_cell_guid": "ea018f68-1d1e-487a-9d8d-e985f2c1d08f",
    "_uuid": "fb5a35db50d449608f76c79aaacf3c27f79ac398"
   },
   "outputs": [
    {
     "data": {
      "text/plain": [
       "0       A\n",
       "1       B\n",
       "2       C\n",
       "3    AABA\n",
       "4    BACA\n",
       "5     NaN\n",
       "6    CABA\n",
       "7     DOG\n",
       "8     CAT\n",
       "dtype: object"
      ]
     },
     "execution_count": 49,
     "metadata": {},
     "output_type": "execute_result"
    }
   ],
   "source": [
    "s.str.upper()"
   ]
  },
  {
   "cell_type": "code",
   "execution_count": 50,
   "metadata": {},
   "outputs": [
    {
     "data": {
      "text/plain": [
       "cat     1\n",
       "C       1\n",
       "B       1\n",
       "Aaba    1\n",
       "Baca    1\n",
       "CABA    1\n",
       "dog     1\n",
       "A       1\n",
       "dtype: int64"
      ]
     },
     "execution_count": 50,
     "metadata": {},
     "output_type": "execute_result"
    }
   ],
   "source": [
    "s.value_counts()"
   ]
  },
  {
   "cell_type": "markdown",
   "metadata": {
    "_cell_guid": "dbf8666d-7af7-4fd0-b40a-5dd3a93cc0cb",
    "_uuid": "9f29392de68aceec0cadc01ccdfc2c124e6821f2"
   },
   "source": [
    "# Grouping\n",
    "By “group by” we are referring to a process involving one or more of the following steps\n",
    "\n",
    "Splitting the data into groups based on some criteria\n",
    "Applying a function to each group independently\n",
    "Combining the results into a data structure\n",
    "\n",
    "See the [Grouping section](https://pandas.pydata.org/pandas-docs/stable/groupby.html#groupby)"
   ]
  },
  {
   "cell_type": "code",
   "execution_count": 51,
   "metadata": {
    "_cell_guid": "23331b94-daca-4454-9f8c-f442169e5062",
    "_uuid": "4934d8285f1ed9fc748cb571d8bf212d6f4880ed"
   },
   "outputs": [
    {
     "data": {
      "text/html": [
       "<div>\n",
       "<style scoped>\n",
       "    .dataframe tbody tr th:only-of-type {\n",
       "        vertical-align: middle;\n",
       "    }\n",
       "\n",
       "    .dataframe tbody tr th {\n",
       "        vertical-align: top;\n",
       "    }\n",
       "\n",
       "    .dataframe thead th {\n",
       "        text-align: right;\n",
       "    }\n",
       "</style>\n",
       "<table border=\"1\" class=\"dataframe\">\n",
       "  <thead>\n",
       "    <tr style=\"text-align: right;\">\n",
       "      <th></th>\n",
       "      <th>A</th>\n",
       "      <th>B</th>\n",
       "      <th>C</th>\n",
       "      <th>D</th>\n",
       "    </tr>\n",
       "  </thead>\n",
       "  <tbody>\n",
       "    <tr>\n",
       "      <th>0</th>\n",
       "      <td>foo</td>\n",
       "      <td>one</td>\n",
       "      <td>-0.602492</td>\n",
       "      <td>0.988319</td>\n",
       "    </tr>\n",
       "    <tr>\n",
       "      <th>1</th>\n",
       "      <td>bar</td>\n",
       "      <td>one</td>\n",
       "      <td>-1.227622</td>\n",
       "      <td>-0.207286</td>\n",
       "    </tr>\n",
       "    <tr>\n",
       "      <th>2</th>\n",
       "      <td>foo</td>\n",
       "      <td>two</td>\n",
       "      <td>0.545164</td>\n",
       "      <td>-0.138812</td>\n",
       "    </tr>\n",
       "    <tr>\n",
       "      <th>3</th>\n",
       "      <td>bar</td>\n",
       "      <td>three</td>\n",
       "      <td>1.075216</td>\n",
       "      <td>1.134954</td>\n",
       "    </tr>\n",
       "    <tr>\n",
       "      <th>4</th>\n",
       "      <td>foo</td>\n",
       "      <td>two</td>\n",
       "      <td>0.355055</td>\n",
       "      <td>-0.565343</td>\n",
       "    </tr>\n",
       "    <tr>\n",
       "      <th>5</th>\n",
       "      <td>bar</td>\n",
       "      <td>two</td>\n",
       "      <td>-0.337639</td>\n",
       "      <td>-0.944235</td>\n",
       "    </tr>\n",
       "    <tr>\n",
       "      <th>6</th>\n",
       "      <td>foo</td>\n",
       "      <td>one</td>\n",
       "      <td>0.093556</td>\n",
       "      <td>-0.704770</td>\n",
       "    </tr>\n",
       "    <tr>\n",
       "      <th>7</th>\n",
       "      <td>foo</td>\n",
       "      <td>three</td>\n",
       "      <td>-0.756973</td>\n",
       "      <td>0.662042</td>\n",
       "    </tr>\n",
       "  </tbody>\n",
       "</table>\n",
       "</div>"
      ],
      "text/plain": [
       "     A      B         C         D\n",
       "0  foo    one -0.602492  0.988319\n",
       "1  bar    one -1.227622 -0.207286\n",
       "2  foo    two  0.545164 -0.138812\n",
       "3  bar  three  1.075216  1.134954\n",
       "4  foo    two  0.355055 -0.565343\n",
       "5  bar    two -0.337639 -0.944235\n",
       "6  foo    one  0.093556 -0.704770\n",
       "7  foo  three -0.756973  0.662042"
      ]
     },
     "execution_count": 51,
     "metadata": {},
     "output_type": "execute_result"
    }
   ],
   "source": [
    "df = pd.DataFrame({'A' : ['foo', 'bar', 'foo', 'bar',\n",
    "   ....:                           'foo', 'bar', 'foo', 'foo'],\n",
    "   ....:                    'B' : ['one', 'one', 'two', 'three',\n",
    "   ....:                           'two', 'two', 'one', 'three'],\n",
    "   ....:                    'C' : np.random.randn(8),\n",
    "   ....:                    'D' : np.random.randn(8)})\n",
    "df"
   ]
  },
  {
   "cell_type": "markdown",
   "metadata": {
    "_cell_guid": "8d5181e7-9196-4575-979a-5167e1347f99",
    "_uuid": "4e11d0fa50d0c5f4ba267e7f13af361eb78715fa"
   },
   "source": [
    "Grouping by multiple columns forms a hierarchical index, which we then apply the function."
   ]
  },
  {
   "cell_type": "code",
   "execution_count": 52,
   "metadata": {
    "_cell_guid": "d4fd100b-cd69-4f81-afae-f1930e1d66c2",
    "_uuid": "f66bb1fb16b537febc7839743a177a222f4946e5"
   },
   "outputs": [
    {
     "data": {
      "text/html": [
       "<div>\n",
       "<style scoped>\n",
       "    .dataframe tbody tr th:only-of-type {\n",
       "        vertical-align: middle;\n",
       "    }\n",
       "\n",
       "    .dataframe tbody tr th {\n",
       "        vertical-align: top;\n",
       "    }\n",
       "\n",
       "    .dataframe thead th {\n",
       "        text-align: right;\n",
       "    }\n",
       "</style>\n",
       "<table border=\"1\" class=\"dataframe\">\n",
       "  <thead>\n",
       "    <tr style=\"text-align: right;\">\n",
       "      <th></th>\n",
       "      <th></th>\n",
       "      <th>C</th>\n",
       "      <th>D</th>\n",
       "    </tr>\n",
       "    <tr>\n",
       "      <th>A</th>\n",
       "      <th>B</th>\n",
       "      <th></th>\n",
       "      <th></th>\n",
       "    </tr>\n",
       "  </thead>\n",
       "  <tbody>\n",
       "    <tr>\n",
       "      <th rowspan=\"3\" valign=\"top\">bar</th>\n",
       "      <th>one</th>\n",
       "      <td>-1.227622</td>\n",
       "      <td>-0.207286</td>\n",
       "    </tr>\n",
       "    <tr>\n",
       "      <th>three</th>\n",
       "      <td>1.075216</td>\n",
       "      <td>1.134954</td>\n",
       "    </tr>\n",
       "    <tr>\n",
       "      <th>two</th>\n",
       "      <td>-0.337639</td>\n",
       "      <td>-0.944235</td>\n",
       "    </tr>\n",
       "    <tr>\n",
       "      <th rowspan=\"3\" valign=\"top\">foo</th>\n",
       "      <th>one</th>\n",
       "      <td>-0.508936</td>\n",
       "      <td>0.283548</td>\n",
       "    </tr>\n",
       "    <tr>\n",
       "      <th>three</th>\n",
       "      <td>-0.756973</td>\n",
       "      <td>0.662042</td>\n",
       "    </tr>\n",
       "    <tr>\n",
       "      <th>two</th>\n",
       "      <td>0.900219</td>\n",
       "      <td>-0.704155</td>\n",
       "    </tr>\n",
       "  </tbody>\n",
       "</table>\n",
       "</div>"
      ],
      "text/plain": [
       "                  C         D\n",
       "A   B                        \n",
       "bar one   -1.227622 -0.207286\n",
       "    three  1.075216  1.134954\n",
       "    two   -0.337639 -0.944235\n",
       "foo one   -0.508936  0.283548\n",
       "    three -0.756973  0.662042\n",
       "    two    0.900219 -0.704155"
      ]
     },
     "execution_count": 52,
     "metadata": {},
     "output_type": "execute_result"
    }
   ],
   "source": [
    "df.groupby(['A','B']).sum()"
   ]
  },
  {
   "cell_type": "markdown",
   "metadata": {
    "_cell_guid": "f7329129-1fc9-434a-ac45-e79986ed395c",
    "_uuid": "4fad41dc8d59a36e31eee33e2e4ceadaef91ef5c"
   },
   "source": [
    "# Plotting\n",
    "[Plotting](https://pandas.pydata.org/pandas-docs/stable/visualization.html#visualization) docs"
   ]
  },
  {
   "cell_type": "code",
   "execution_count": 53,
   "metadata": {
    "_cell_guid": "161bb7ae-199a-4afb-a96e-cd44ce1ad5ba",
    "_uuid": "d7773d5d125e65665d1fa5742a5d96a4c4f66869"
   },
   "outputs": [
    {
     "data": {
      "text/plain": [
       "<matplotlib.axes._subplots.AxesSubplot at 0x285c9e57f60>"
      ]
     },
     "execution_count": 53,
     "metadata": {},
     "output_type": "execute_result"
    },
    {
     "data": {
      "image/png": "[encoded data removed]",
      "text/plain": [
       "<Figure size 432x288 with 1 Axes>"
      ]
     },
     "metadata": {
      "needs_background": "light"
     },
     "output_type": "display_data"
    }
   ],
   "source": [
    "ts = pd.Series(np.random.randn(1000), index=pd.date_range('1/1/2000', periods=1000))\n",
    "ts = ts.cumsum()\n",
    "ts.plot()"
   ]
  },
  {
   "cell_type": "markdown",
   "metadata": {
    "_cell_guid": "0176b40e-ada1-4bcd-8e12-d3ff15e1b0f7",
    "_uuid": "7b6fa4a5c292aeadb392e26b6b8c22de265340e6"
   },
   "source": [
    "On DataFrame, plot() is a convenience to plot all of the columns with labels:"
   ]
  },
  {
   "cell_type": "code",
   "execution_count": 54,
   "metadata": {
    "_cell_guid": "486b1a48-5629-43a9-a421-ab9659b3b5c2",
    "_uuid": "dd719ceca935f661779a4ae7a9d0bdb456707afd"
   },
   "outputs": [
    {
     "data": {
      "text/plain": [
       "<matplotlib.legend.Legend at 0x285ca1ee588>"
      ]
     },
     "execution_count": 54,
     "metadata": {},
     "output_type": "execute_result"
    },
    {
     "data": {
      "text/plain": [
       "<Figure size 432x288 with 0 Axes>"
      ]
     },
     "metadata": {},
     "output_type": "display_data"
    },
    {
     "data": {
      "image/png": "[encoded data removed]",
      "text/plain": [
       "<Figure size 432x288 with 1 Axes>"
      ]
     },
     "metadata": {
      "needs_background": "light"
     },
     "output_type": "display_data"
    }
   ],
   "source": [
    "df = pd.DataFrame(np.random.randn(1000, 4), index=ts.index,\n",
    "   .....:                   columns=['A', 'B', 'C', 'D'])\n",
    "df = df.cumsum()\n",
    "plt.figure(); df.plot(); plt.legend(loc='best')"
   ]
  },
  {
   "cell_type": "markdown",
   "metadata": {
    "_cell_guid": "8f173711-84cf-405d-a974-8f3d467a1699",
    "_uuid": "6707cccfbd1da29773303b644ad02a47e917e182"
   },
   "source": [
    "# Getting Data In/Out\n",
    "### CSV\n",
    "[Writing to a csv file](https://pandas.pydata.org/pandas-docs/stable/io.html#io-store-in-csv)."
   ]
  },
  {
   "cell_type": "code",
   "execution_count": 55,
   "metadata": {},
   "outputs": [
    {
     "data": {
      "text/html": [
       "<div>\n",
       "<style scoped>\n",
       "    .dataframe tbody tr th:only-of-type {\n",
       "        vertical-align: middle;\n",
       "    }\n",
       "\n",
       "    .dataframe tbody tr th {\n",
       "        vertical-align: top;\n",
       "    }\n",
       "\n",
       "    .dataframe thead th {\n",
       "        text-align: right;\n",
       "    }\n",
       "</style>\n",
       "<table border=\"1\" class=\"dataframe\">\n",
       "  <thead>\n",
       "    <tr style=\"text-align: right;\">\n",
       "      <th></th>\n",
       "      <th>A</th>\n",
       "      <th>B</th>\n",
       "      <th>C</th>\n",
       "      <th>D</th>\n",
       "    </tr>\n",
       "  </thead>\n",
       "  <tbody>\n",
       "    <tr>\n",
       "      <th>2000-01-01</th>\n",
       "      <td>-2.048623</td>\n",
       "      <td>-0.223668</td>\n",
       "      <td>1.959406</td>\n",
       "      <td>-1.313593</td>\n",
       "    </tr>\n",
       "    <tr>\n",
       "      <th>2000-01-02</th>\n",
       "      <td>-3.372663</td>\n",
       "      <td>-2.317316</td>\n",
       "      <td>1.211092</td>\n",
       "      <td>-0.963307</td>\n",
       "    </tr>\n",
       "    <tr>\n",
       "      <th>2000-01-03</th>\n",
       "      <td>-3.823716</td>\n",
       "      <td>-1.117382</td>\n",
       "      <td>-0.151371</td>\n",
       "      <td>-1.175526</td>\n",
       "    </tr>\n",
       "    <tr>\n",
       "      <th>2000-01-04</th>\n",
       "      <td>-2.022191</td>\n",
       "      <td>-1.700453</td>\n",
       "      <td>0.672747</td>\n",
       "      <td>-1.459087</td>\n",
       "    </tr>\n",
       "    <tr>\n",
       "      <th>2000-01-05</th>\n",
       "      <td>-2.552789</td>\n",
       "      <td>-1.949926</td>\n",
       "      <td>1.073234</td>\n",
       "      <td>-2.263618</td>\n",
       "    </tr>\n",
       "    <tr>\n",
       "      <th>2000-01-06</th>\n",
       "      <td>-3.073303</td>\n",
       "      <td>-2.512801</td>\n",
       "      <td>1.866388</td>\n",
       "      <td>-0.679164</td>\n",
       "    </tr>\n",
       "    <tr>\n",
       "      <th>2000-01-07</th>\n",
       "      <td>-4.326215</td>\n",
       "      <td>-3.561859</td>\n",
       "      <td>2.298682</td>\n",
       "      <td>1.611832</td>\n",
       "    </tr>\n",
       "    <tr>\n",
       "      <th>2000-01-08</th>\n",
       "      <td>-3.397108</td>\n",
       "      <td>-3.656333</td>\n",
       "      <td>1.591028</td>\n",
       "      <td>0.418104</td>\n",
       "    </tr>\n",
       "    <tr>\n",
       "      <th>2000-01-09</th>\n",
       "      <td>-5.507013</td>\n",
       "      <td>-4.113969</td>\n",
       "      <td>2.220965</td>\n",
       "      <td>0.950688</td>\n",
       "    </tr>\n",
       "    <tr>\n",
       "      <th>2000-01-10</th>\n",
       "      <td>-4.333515</td>\n",
       "      <td>-5.212221</td>\n",
       "      <td>2.369454</td>\n",
       "      <td>-0.225886</td>\n",
       "    </tr>\n",
       "    <tr>\n",
       "      <th>2000-01-11</th>\n",
       "      <td>-5.879255</td>\n",
       "      <td>-5.629167</td>\n",
       "      <td>0.809685</td>\n",
       "      <td>-1.337165</td>\n",
       "    </tr>\n",
       "    <tr>\n",
       "      <th>2000-01-12</th>\n",
       "      <td>-6.470240</td>\n",
       "      <td>-4.528863</td>\n",
       "      <td>0.763979</td>\n",
       "      <td>-0.151709</td>\n",
       "    </tr>\n",
       "    <tr>\n",
       "      <th>2000-01-13</th>\n",
       "      <td>-7.939520</td>\n",
       "      <td>-6.162052</td>\n",
       "      <td>0.085512</td>\n",
       "      <td>-0.243993</td>\n",
       "    </tr>\n",
       "    <tr>\n",
       "      <th>2000-01-14</th>\n",
       "      <td>-8.976141</td>\n",
       "      <td>-4.053676</td>\n",
       "      <td>-0.380365</td>\n",
       "      <td>0.176886</td>\n",
       "    </tr>\n",
       "    <tr>\n",
       "      <th>2000-01-15</th>\n",
       "      <td>-9.405895</td>\n",
       "      <td>-5.706344</td>\n",
       "      <td>-1.517499</td>\n",
       "      <td>0.173095</td>\n",
       "    </tr>\n",
       "    <tr>\n",
       "      <th>2000-01-16</th>\n",
       "      <td>-8.737125</td>\n",
       "      <td>-6.416109</td>\n",
       "      <td>-0.864668</td>\n",
       "      <td>0.744544</td>\n",
       "    </tr>\n",
       "    <tr>\n",
       "      <th>2000-01-17</th>\n",
       "      <td>-9.569208</td>\n",
       "      <td>-4.694137</td>\n",
       "      <td>-0.952732</td>\n",
       "      <td>-0.082818</td>\n",
       "    </tr>\n",
       "    <tr>\n",
       "      <th>2000-01-18</th>\n",
       "      <td>-8.170540</td>\n",
       "      <td>-5.291550</td>\n",
       "      <td>-1.486927</td>\n",
       "      <td>1.443502</td>\n",
       "    </tr>\n",
       "    <tr>\n",
       "      <th>2000-01-19</th>\n",
       "      <td>-7.563857</td>\n",
       "      <td>-6.892772</td>\n",
       "      <td>-0.825273</td>\n",
       "      <td>2.558420</td>\n",
       "    </tr>\n",
       "    <tr>\n",
       "      <th>2000-01-20</th>\n",
       "      <td>-7.454708</td>\n",
       "      <td>-6.337941</td>\n",
       "      <td>-0.599532</td>\n",
       "      <td>1.136231</td>\n",
       "    </tr>\n",
       "    <tr>\n",
       "      <th>2000-01-21</th>\n",
       "      <td>-7.183032</td>\n",
       "      <td>-5.840788</td>\n",
       "      <td>1.195520</td>\n",
       "      <td>2.661975</td>\n",
       "    </tr>\n",
       "    <tr>\n",
       "      <th>2000-01-22</th>\n",
       "      <td>-4.414759</td>\n",
       "      <td>-5.227352</td>\n",
       "      <td>0.700115</td>\n",
       "      <td>2.633301</td>\n",
       "    </tr>\n",
       "    <tr>\n",
       "      <th>2000-01-23</th>\n",
       "      <td>-4.325336</td>\n",
       "      <td>-4.143925</td>\n",
       "      <td>2.768694</td>\n",
       "      <td>3.390356</td>\n",
       "    </tr>\n",
       "    <tr>\n",
       "      <th>2000-01-24</th>\n",
       "      <td>-2.442899</td>\n",
       "      <td>-2.950792</td>\n",
       "      <td>3.022909</td>\n",
       "      <td>3.377566</td>\n",
       "    </tr>\n",
       "    <tr>\n",
       "      <th>2000-01-25</th>\n",
       "      <td>-3.334453</td>\n",
       "      <td>-3.102322</td>\n",
       "      <td>4.697247</td>\n",
       "      <td>2.422407</td>\n",
       "    </tr>\n",
       "    <tr>\n",
       "      <th>2000-01-26</th>\n",
       "      <td>-3.950190</td>\n",
       "      <td>-3.247735</td>\n",
       "      <td>4.024472</td>\n",
       "      <td>2.364064</td>\n",
       "    </tr>\n",
       "    <tr>\n",
       "      <th>2000-01-27</th>\n",
       "      <td>-4.512846</td>\n",
       "      <td>-3.396593</td>\n",
       "      <td>2.985019</td>\n",
       "      <td>2.888522</td>\n",
       "    </tr>\n",
       "    <tr>\n",
       "      <th>2000-01-28</th>\n",
       "      <td>-4.903918</td>\n",
       "      <td>-2.865670</td>\n",
       "      <td>3.029914</td>\n",
       "      <td>3.958151</td>\n",
       "    </tr>\n",
       "    <tr>\n",
       "      <th>2000-01-29</th>\n",
       "      <td>-2.633348</td>\n",
       "      <td>-2.689393</td>\n",
       "      <td>2.866435</td>\n",
       "      <td>2.970712</td>\n",
       "    </tr>\n",
       "    <tr>\n",
       "      <th>2000-01-30</th>\n",
       "      <td>-4.489836</td>\n",
       "      <td>-1.219307</td>\n",
       "      <td>3.321451</td>\n",
       "      <td>3.052958</td>\n",
       "    </tr>\n",
       "    <tr>\n",
       "      <th>...</th>\n",
       "      <td>...</td>\n",
       "      <td>...</td>\n",
       "      <td>...</td>\n",
       "      <td>...</td>\n",
       "    </tr>\n",
       "    <tr>\n",
       "      <th>2002-08-28</th>\n",
       "      <td>-33.114665</td>\n",
       "      <td>52.490770</td>\n",
       "      <td>-24.134385</td>\n",
       "      <td>4.749267</td>\n",
       "    </tr>\n",
       "    <tr>\n",
       "      <th>2002-08-29</th>\n",
       "      <td>-32.815463</td>\n",
       "      <td>52.181030</td>\n",
       "      <td>-25.075872</td>\n",
       "      <td>5.897609</td>\n",
       "    </tr>\n",
       "    <tr>\n",
       "      <th>2002-08-30</th>\n",
       "      <td>-32.060344</td>\n",
       "      <td>51.640038</td>\n",
       "      <td>-23.856303</td>\n",
       "      <td>7.333669</td>\n",
       "    </tr>\n",
       "    <tr>\n",
       "      <th>2002-08-31</th>\n",
       "      <td>-32.977334</td>\n",
       "      <td>50.907724</td>\n",
       "      <td>-22.458731</td>\n",
       "      <td>7.413404</td>\n",
       "    </tr>\n",
       "    <tr>\n",
       "      <th>2002-09-01</th>\n",
       "      <td>-33.973944</td>\n",
       "      <td>50.002960</td>\n",
       "      <td>-22.388717</td>\n",
       "      <td>7.405677</td>\n",
       "    </tr>\n",
       "    <tr>\n",
       "      <th>2002-09-02</th>\n",
       "      <td>-33.772266</td>\n",
       "      <td>50.210193</td>\n",
       "      <td>-23.126930</td>\n",
       "      <td>9.419117</td>\n",
       "    </tr>\n",
       "    <tr>\n",
       "      <th>2002-09-03</th>\n",
       "      <td>-33.943813</td>\n",
       "      <td>49.971940</td>\n",
       "      <td>-22.260697</td>\n",
       "      <td>8.211787</td>\n",
       "    </tr>\n",
       "    <tr>\n",
       "      <th>2002-09-04</th>\n",
       "      <td>-35.453310</td>\n",
       "      <td>49.855384</td>\n",
       "      <td>-23.307238</td>\n",
       "      <td>8.763933</td>\n",
       "    </tr>\n",
       "    <tr>\n",
       "      <th>2002-09-05</th>\n",
       "      <td>-35.449634</td>\n",
       "      <td>49.148502</td>\n",
       "      <td>-23.508024</td>\n",
       "      <td>9.278532</td>\n",
       "    </tr>\n",
       "    <tr>\n",
       "      <th>2002-09-06</th>\n",
       "      <td>-37.518665</td>\n",
       "      <td>48.102254</td>\n",
       "      <td>-24.482914</td>\n",
       "      <td>8.395243</td>\n",
       "    </tr>\n",
       "    <tr>\n",
       "      <th>2002-09-07</th>\n",
       "      <td>-37.606097</td>\n",
       "      <td>46.452078</td>\n",
       "      <td>-23.707126</td>\n",
       "      <td>6.608093</td>\n",
       "    </tr>\n",
       "    <tr>\n",
       "      <th>2002-09-08</th>\n",
       "      <td>-35.288613</td>\n",
       "      <td>46.326389</td>\n",
       "      <td>-22.593041</td>\n",
       "      <td>8.108061</td>\n",
       "    </tr>\n",
       "    <tr>\n",
       "      <th>2002-09-09</th>\n",
       "      <td>-35.504313</td>\n",
       "      <td>46.063195</td>\n",
       "      <td>-21.714328</td>\n",
       "      <td>6.352368</td>\n",
       "    </tr>\n",
       "    <tr>\n",
       "      <th>2002-09-10</th>\n",
       "      <td>-34.132115</td>\n",
       "      <td>45.677362</td>\n",
       "      <td>-20.229528</td>\n",
       "      <td>7.042926</td>\n",
       "    </tr>\n",
       "    <tr>\n",
       "      <th>2002-09-11</th>\n",
       "      <td>-34.552194</td>\n",
       "      <td>46.436252</td>\n",
       "      <td>-19.822362</td>\n",
       "      <td>7.681235</td>\n",
       "    </tr>\n",
       "    <tr>\n",
       "      <th>2002-09-12</th>\n",
       "      <td>-34.528788</td>\n",
       "      <td>46.112772</td>\n",
       "      <td>-19.657745</td>\n",
       "      <td>7.271507</td>\n",
       "    </tr>\n",
       "    <tr>\n",
       "      <th>2002-09-13</th>\n",
       "      <td>-35.677065</td>\n",
       "      <td>45.477709</td>\n",
       "      <td>-19.765154</td>\n",
       "      <td>7.545541</td>\n",
       "    </tr>\n",
       "    <tr>\n",
       "      <th>2002-09-14</th>\n",
       "      <td>-36.927066</td>\n",
       "      <td>44.265280</td>\n",
       "      <td>-19.669482</td>\n",
       "      <td>7.037058</td>\n",
       "    </tr>\n",
       "    <tr>\n",
       "      <th>2002-09-15</th>\n",
       "      <td>-38.380816</td>\n",
       "      <td>43.109502</td>\n",
       "      <td>-20.083948</td>\n",
       "      <td>7.784013</td>\n",
       "    </tr>\n",
       "    <tr>\n",
       "      <th>2002-09-16</th>\n",
       "      <td>-40.369723</td>\n",
       "      <td>43.810145</td>\n",
       "      <td>-19.289316</td>\n",
       "      <td>8.045580</td>\n",
       "    </tr>\n",
       "    <tr>\n",
       "      <th>2002-09-17</th>\n",
       "      <td>-40.840682</td>\n",
       "      <td>44.068898</td>\n",
       "      <td>-18.289180</td>\n",
       "      <td>7.437628</td>\n",
       "    </tr>\n",
       "    <tr>\n",
       "      <th>2002-09-18</th>\n",
       "      <td>-40.447340</td>\n",
       "      <td>43.763993</td>\n",
       "      <td>-19.128442</td>\n",
       "      <td>6.082166</td>\n",
       "    </tr>\n",
       "    <tr>\n",
       "      <th>2002-09-19</th>\n",
       "      <td>-39.985592</td>\n",
       "      <td>44.093663</td>\n",
       "      <td>-18.343789</td>\n",
       "      <td>6.166883</td>\n",
       "    </tr>\n",
       "    <tr>\n",
       "      <th>2002-09-20</th>\n",
       "      <td>-39.781121</td>\n",
       "      <td>43.827025</td>\n",
       "      <td>-17.341196</td>\n",
       "      <td>4.917904</td>\n",
       "    </tr>\n",
       "    <tr>\n",
       "      <th>2002-09-21</th>\n",
       "      <td>-40.227333</td>\n",
       "      <td>44.088042</td>\n",
       "      <td>-16.923924</td>\n",
       "      <td>4.617459</td>\n",
       "    </tr>\n",
       "    <tr>\n",
       "      <th>2002-09-22</th>\n",
       "      <td>-39.542473</td>\n",
       "      <td>44.676736</td>\n",
       "      <td>-16.070292</td>\n",
       "      <td>5.939153</td>\n",
       "    </tr>\n",
       "    <tr>\n",
       "      <th>2002-09-23</th>\n",
       "      <td>-38.442232</td>\n",
       "      <td>43.731582</td>\n",
       "      <td>-17.640761</td>\n",
       "      <td>5.390695</td>\n",
       "    </tr>\n",
       "    <tr>\n",
       "      <th>2002-09-24</th>\n",
       "      <td>-37.755640</td>\n",
       "      <td>43.361570</td>\n",
       "      <td>-16.332876</td>\n",
       "      <td>5.545799</td>\n",
       "    </tr>\n",
       "    <tr>\n",
       "      <th>2002-09-25</th>\n",
       "      <td>-38.287645</td>\n",
       "      <td>43.900118</td>\n",
       "      <td>-17.394499</td>\n",
       "      <td>6.255483</td>\n",
       "    </tr>\n",
       "    <tr>\n",
       "      <th>2002-09-26</th>\n",
       "      <td>-38.282297</td>\n",
       "      <td>44.347473</td>\n",
       "      <td>-18.397410</td>\n",
       "      <td>5.114015</td>\n",
       "    </tr>\n",
       "  </tbody>\n",
       "</table>\n",
       "<p>1000 rows × 4 columns</p>\n",
       "</div>"
      ],
      "text/plain": [
       "                    A          B          C         D\n",
       "2000-01-01  -2.048623  -0.223668   1.959406 -1.313593\n",
       "2000-01-02  -3.372663  -2.317316   1.211092 -0.963307\n",
       "2000-01-03  -3.823716  -1.117382  -0.151371 -1.175526\n",
       "2000-01-04  -2.022191  -1.700453   0.672747 -1.459087\n",
       "2000-01-05  -2.552789  -1.949926   1.073234 -2.263618\n",
       "2000-01-06  -3.073303  -2.512801   1.866388 -0.679164\n",
       "2000-01-07  -4.326215  -3.561859   2.298682  1.611832\n",
       "2000-01-08  -3.397108  -3.656333   1.591028  0.418104\n",
       "2000-01-09  -5.507013  -4.113969   2.220965  0.950688\n",
       "2000-01-10  -4.333515  -5.212221   2.369454 -0.225886\n",
       "2000-01-11  -5.879255  -5.629167   0.809685 -1.337165\n",
       "2000-01-12  -6.470240  -4.528863   0.763979 -0.151709\n",
       "2000-01-13  -7.939520  -6.162052   0.085512 -0.243993\n",
       "2000-01-14  -8.976141  -4.053676  -0.380365  0.176886\n",
       "2000-01-15  -9.405895  -5.706344  -1.517499  0.173095\n",
       "2000-01-16  -8.737125  -6.416109  -0.864668  0.744544\n",
       "2000-01-17  -9.569208  -4.694137  -0.952732 -0.082818\n",
       "2000-01-18  -8.170540  -5.291550  -1.486927  1.443502\n",
       "2000-01-19  -7.563857  -6.892772  -0.825273  2.558420\n",
       "2000-01-20  -7.454708  -6.337941  -0.599532  1.136231\n",
       "2000-01-21  -7.183032  -5.840788   1.195520  2.661975\n",
       "2000-01-22  -4.414759  -5.227352   0.700115  2.633301\n",
       "2000-01-23  -4.325336  -4.143925   2.768694  3.390356\n",
       "2000-01-24  -2.442899  -2.950792   3.022909  3.377566\n",
       "2000-01-25  -3.334453  -3.102322   4.697247  2.422407\n",
       "2000-01-26  -3.950190  -3.247735   4.024472  2.364064\n",
       "2000-01-27  -4.512846  -3.396593   2.985019  2.888522\n",
       "2000-01-28  -4.903918  -2.865670   3.029914  3.958151\n",
       "2000-01-29  -2.633348  -2.689393   2.866435  2.970712\n",
       "2000-01-30  -4.489836  -1.219307   3.321451  3.052958\n",
       "...               ...        ...        ...       ...\n",
       "2002-08-28 -33.114665  52.490770 -24.134385  4.749267\n",
       "2002-08-29 -32.815463  52.181030 -25.075872  5.897609\n",
       "2002-08-30 -32.060344  51.640038 -23.856303  7.333669\n",
       "2002-08-31 -32.977334  50.907724 -22.458731  7.413404\n",
       "2002-09-01 -33.973944  50.002960 -22.388717  7.405677\n",
       "2002-09-02 -33.772266  50.210193 -23.126930  9.419117\n",
       "2002-09-03 -33.943813  49.971940 -22.260697  8.211787\n",
       "2002-09-04 -35.453310  49.855384 -23.307238  8.763933\n",
       "2002-09-05 -35.449634  49.148502 -23.508024  9.278532\n",
       "2002-09-06 -37.518665  48.102254 -24.482914  8.395243\n",
       "2002-09-07 -37.606097  46.452078 -23.707126  6.608093\n",
       "2002-09-08 -35.288613  46.326389 -22.593041  8.108061\n",
       "2002-09-09 -35.504313  46.063195 -21.714328  6.352368\n",
       "2002-09-10 -34.132115  45.677362 -20.229528  7.042926\n",
       "2002-09-11 -34.552194  46.436252 -19.822362  7.681235\n",
       "2002-09-12 -34.528788  46.112772 -19.657745  7.271507\n",
       "2002-09-13 -35.677065  45.477709 -19.765154  7.545541\n",
       "2002-09-14 -36.927066  44.265280 -19.669482  7.037058\n",
       "2002-09-15 -38.380816  43.109502 -20.083948  7.784013\n",
       "2002-09-16 -40.369723  43.810145 -19.289316  8.045580\n",
       "2002-09-17 -40.840682  44.068898 -18.289180  7.437628\n",
       "2002-09-18 -40.447340  43.763993 -19.128442  6.082166\n",
       "2002-09-19 -39.985592  44.093663 -18.343789  6.166883\n",
       "2002-09-20 -39.781121  43.827025 -17.341196  4.917904\n",
       "2002-09-21 -40.227333  44.088042 -16.923924  4.617459\n",
       "2002-09-22 -39.542473  44.676736 -16.070292  5.939153\n",
       "2002-09-23 -38.442232  43.731582 -17.640761  5.390695\n",
       "2002-09-24 -37.755640  43.361570 -16.332876  5.545799\n",
       "2002-09-25 -38.287645  43.900118 -17.394499  6.255483\n",
       "2002-09-26 -38.282297  44.347473 -18.397410  5.114015\n",
       "\n",
       "[1000 rows x 4 columns]"
      ]
     },
     "execution_count": 55,
     "metadata": {},
     "output_type": "execute_result"
    }
   ],
   "source": [
    "df"
   ]
  },
  {
   "cell_type": "code",
   "execution_count": 56,
   "metadata": {
    "_cell_guid": "c2854c44-5039-4c4f-9333-f4b0f33edc5b",
    "_uuid": "f321aa65d66246497c509d32969d3e1a3d717391"
   },
   "outputs": [],
   "source": [
    "df.to_csv('foo.csv')"
   ]
  },
  {
   "cell_type": "code",
   "execution_count": 57,
   "metadata": {
    "_cell_guid": "746340a9-c552-4995-8cbd-067f7dd62e35",
    "_uuid": "c0daece574ad9366f247716b0bfe7f3fd0c9351e"
   },
   "outputs": [
    {
     "data": {
      "text/html": [
       "<div>\n",
       "<style scoped>\n",
       "    .dataframe tbody tr th:only-of-type {\n",
       "        vertical-align: middle;\n",
       "    }\n",
       "\n",
       "    .dataframe tbody tr th {\n",
       "        vertical-align: top;\n",
       "    }\n",
       "\n",
       "    .dataframe thead th {\n",
       "        text-align: right;\n",
       "    }\n",
       "</style>\n",
       "<table border=\"1\" class=\"dataframe\">\n",
       "  <thead>\n",
       "    <tr style=\"text-align: right;\">\n",
       "      <th></th>\n",
       "      <th>A</th>\n",
       "      <th>B</th>\n",
       "      <th>C</th>\n",
       "      <th>D</th>\n",
       "    </tr>\n",
       "  </thead>\n",
       "  <tbody>\n",
       "    <tr>\n",
       "      <th>2000-01-01</th>\n",
       "      <td>-2.048623</td>\n",
       "      <td>-0.223668</td>\n",
       "      <td>1.959406</td>\n",
       "      <td>-1.313593</td>\n",
       "    </tr>\n",
       "    <tr>\n",
       "      <th>2000-01-02</th>\n",
       "      <td>-3.372663</td>\n",
       "      <td>-2.317316</td>\n",
       "      <td>1.211092</td>\n",
       "      <td>-0.963307</td>\n",
       "    </tr>\n",
       "    <tr>\n",
       "      <th>2000-01-03</th>\n",
       "      <td>-3.823716</td>\n",
       "      <td>-1.117382</td>\n",
       "      <td>-0.151371</td>\n",
       "      <td>-1.175526</td>\n",
       "    </tr>\n",
       "    <tr>\n",
       "      <th>2000-01-04</th>\n",
       "      <td>-2.022191</td>\n",
       "      <td>-1.700453</td>\n",
       "      <td>0.672747</td>\n",
       "      <td>-1.459087</td>\n",
       "    </tr>\n",
       "    <tr>\n",
       "      <th>2000-01-05</th>\n",
       "      <td>-2.552789</td>\n",
       "      <td>-1.949926</td>\n",
       "      <td>1.073234</td>\n",
       "      <td>-2.263618</td>\n",
       "    </tr>\n",
       "    <tr>\n",
       "      <th>2000-01-06</th>\n",
       "      <td>-3.073303</td>\n",
       "      <td>-2.512801</td>\n",
       "      <td>1.866388</td>\n",
       "      <td>-0.679164</td>\n",
       "    </tr>\n",
       "    <tr>\n",
       "      <th>2000-01-07</th>\n",
       "      <td>-4.326215</td>\n",
       "      <td>-3.561859</td>\n",
       "      <td>2.298682</td>\n",
       "      <td>1.611832</td>\n",
       "    </tr>\n",
       "    <tr>\n",
       "      <th>2000-01-08</th>\n",
       "      <td>-3.397108</td>\n",
       "      <td>-3.656333</td>\n",
       "      <td>1.591028</td>\n",
       "      <td>0.418104</td>\n",
       "    </tr>\n",
       "    <tr>\n",
       "      <th>2000-01-09</th>\n",
       "      <td>-5.507013</td>\n",
       "      <td>-4.113969</td>\n",
       "      <td>2.220965</td>\n",
       "      <td>0.950688</td>\n",
       "    </tr>\n",
       "    <tr>\n",
       "      <th>2000-01-10</th>\n",
       "      <td>-4.333515</td>\n",
       "      <td>-5.212221</td>\n",
       "      <td>2.369454</td>\n",
       "      <td>-0.225886</td>\n",
       "    </tr>\n",
       "    <tr>\n",
       "      <th>2000-01-11</th>\n",
       "      <td>-5.879255</td>\n",
       "      <td>-5.629167</td>\n",
       "      <td>0.809685</td>\n",
       "      <td>-1.337165</td>\n",
       "    </tr>\n",
       "    <tr>\n",
       "      <th>2000-01-12</th>\n",
       "      <td>-6.470240</td>\n",
       "      <td>-4.528863</td>\n",
       "      <td>0.763979</td>\n",
       "      <td>-0.151709</td>\n",
       "    </tr>\n",
       "    <tr>\n",
       "      <th>2000-01-13</th>\n",
       "      <td>-7.939520</td>\n",
       "      <td>-6.162052</td>\n",
       "      <td>0.085512</td>\n",
       "      <td>-0.243993</td>\n",
       "    </tr>\n",
       "    <tr>\n",
       "      <th>2000-01-14</th>\n",
       "      <td>-8.976141</td>\n",
       "      <td>-4.053676</td>\n",
       "      <td>-0.380365</td>\n",
       "      <td>0.176886</td>\n",
       "    </tr>\n",
       "    <tr>\n",
       "      <th>2000-01-15</th>\n",
       "      <td>-9.405895</td>\n",
       "      <td>-5.706344</td>\n",
       "      <td>-1.517499</td>\n",
       "      <td>0.173095</td>\n",
       "    </tr>\n",
       "    <tr>\n",
       "      <th>2000-01-16</th>\n",
       "      <td>-8.737125</td>\n",
       "      <td>-6.416109</td>\n",
       "      <td>-0.864668</td>\n",
       "      <td>0.744544</td>\n",
       "    </tr>\n",
       "    <tr>\n",
       "      <th>2000-01-17</th>\n",
       "      <td>-9.569208</td>\n",
       "      <td>-4.694137</td>\n",
       "      <td>-0.952732</td>\n",
       "      <td>-0.082818</td>\n",
       "    </tr>\n",
       "    <tr>\n",
       "      <th>2000-01-18</th>\n",
       "      <td>-8.170540</td>\n",
       "      <td>-5.291550</td>\n",
       "      <td>-1.486927</td>\n",
       "      <td>1.443502</td>\n",
       "    </tr>\n",
       "    <tr>\n",
       "      <th>2000-01-19</th>\n",
       "      <td>-7.563857</td>\n",
       "      <td>-6.892772</td>\n",
       "      <td>-0.825273</td>\n",
       "      <td>2.558420</td>\n",
       "    </tr>\n",
       "    <tr>\n",
       "      <th>2000-01-20</th>\n",
       "      <td>-7.454708</td>\n",
       "      <td>-6.337941</td>\n",
       "      <td>-0.599532</td>\n",
       "      <td>1.136231</td>\n",
       "    </tr>\n",
       "    <tr>\n",
       "      <th>2000-01-21</th>\n",
       "      <td>-7.183032</td>\n",
       "      <td>-5.840788</td>\n",
       "      <td>1.195520</td>\n",
       "      <td>2.661975</td>\n",
       "    </tr>\n",
       "    <tr>\n",
       "      <th>2000-01-22</th>\n",
       "      <td>-4.414759</td>\n",
       "      <td>-5.227352</td>\n",
       "      <td>0.700115</td>\n",
       "      <td>2.633301</td>\n",
       "    </tr>\n",
       "    <tr>\n",
       "      <th>2000-01-23</th>\n",
       "      <td>-4.325336</td>\n",
       "      <td>-4.143925</td>\n",
       "      <td>2.768694</td>\n",
       "      <td>3.390356</td>\n",
       "    </tr>\n",
       "    <tr>\n",
       "      <th>2000-01-24</th>\n",
       "      <td>-2.442899</td>\n",
       "      <td>-2.950792</td>\n",
       "      <td>3.022909</td>\n",
       "      <td>3.377566</td>\n",
       "    </tr>\n",
       "    <tr>\n",
       "      <th>2000-01-25</th>\n",
       "      <td>-3.334453</td>\n",
       "      <td>-3.102322</td>\n",
       "      <td>4.697247</td>\n",
       "      <td>2.422407</td>\n",
       "    </tr>\n",
       "    <tr>\n",
       "      <th>2000-01-26</th>\n",
       "      <td>-3.950190</td>\n",
       "      <td>-3.247735</td>\n",
       "      <td>4.024472</td>\n",
       "      <td>2.364064</td>\n",
       "    </tr>\n",
       "    <tr>\n",
       "      <th>2000-01-27</th>\n",
       "      <td>-4.512846</td>\n",
       "      <td>-3.396593</td>\n",
       "      <td>2.985019</td>\n",
       "      <td>2.888522</td>\n",
       "    </tr>\n",
       "    <tr>\n",
       "      <th>2000-01-28</th>\n",
       "      <td>-4.903918</td>\n",
       "      <td>-2.865670</td>\n",
       "      <td>3.029914</td>\n",
       "      <td>3.958151</td>\n",
       "    </tr>\n",
       "    <tr>\n",
       "      <th>2000-01-29</th>\n",
       "      <td>-2.633348</td>\n",
       "      <td>-2.689393</td>\n",
       "      <td>2.866435</td>\n",
       "      <td>2.970712</td>\n",
       "    </tr>\n",
       "    <tr>\n",
       "      <th>2000-01-30</th>\n",
       "      <td>-4.489836</td>\n",
       "      <td>-1.219307</td>\n",
       "      <td>3.321451</td>\n",
       "      <td>3.052958</td>\n",
       "    </tr>\n",
       "    <tr>\n",
       "      <th>...</th>\n",
       "      <td>...</td>\n",
       "      <td>...</td>\n",
       "      <td>...</td>\n",
       "      <td>...</td>\n",
       "    </tr>\n",
       "    <tr>\n",
       "      <th>2002-08-28</th>\n",
       "      <td>-33.114665</td>\n",
       "      <td>52.490770</td>\n",
       "      <td>-24.134385</td>\n",
       "      <td>4.749267</td>\n",
       "    </tr>\n",
       "    <tr>\n",
       "      <th>2002-08-29</th>\n",
       "      <td>-32.815463</td>\n",
       "      <td>52.181030</td>\n",
       "      <td>-25.075872</td>\n",
       "      <td>5.897609</td>\n",
       "    </tr>\n",
       "    <tr>\n",
       "      <th>2002-08-30</th>\n",
       "      <td>-32.060344</td>\n",
       "      <td>51.640038</td>\n",
       "      <td>-23.856303</td>\n",
       "      <td>7.333669</td>\n",
       "    </tr>\n",
       "    <tr>\n",
       "      <th>2002-08-31</th>\n",
       "      <td>-32.977334</td>\n",
       "      <td>50.907724</td>\n",
       "      <td>-22.458731</td>\n",
       "      <td>7.413404</td>\n",
       "    </tr>\n",
       "    <tr>\n",
       "      <th>2002-09-01</th>\n",
       "      <td>-33.973944</td>\n",
       "      <td>50.002960</td>\n",
       "      <td>-22.388717</td>\n",
       "      <td>7.405677</td>\n",
       "    </tr>\n",
       "    <tr>\n",
       "      <th>2002-09-02</th>\n",
       "      <td>-33.772266</td>\n",
       "      <td>50.210193</td>\n",
       "      <td>-23.126930</td>\n",
       "      <td>9.419117</td>\n",
       "    </tr>\n",
       "    <tr>\n",
       "      <th>2002-09-03</th>\n",
       "      <td>-33.943813</td>\n",
       "      <td>49.971940</td>\n",
       "      <td>-22.260697</td>\n",
       "      <td>8.211787</td>\n",
       "    </tr>\n",
       "    <tr>\n",
       "      <th>2002-09-04</th>\n",
       "      <td>-35.453310</td>\n",
       "      <td>49.855384</td>\n",
       "      <td>-23.307238</td>\n",
       "      <td>8.763933</td>\n",
       "    </tr>\n",
       "    <tr>\n",
       "      <th>2002-09-05</th>\n",
       "      <td>-35.449634</td>\n",
       "      <td>49.148502</td>\n",
       "      <td>-23.508024</td>\n",
       "      <td>9.278532</td>\n",
       "    </tr>\n",
       "    <tr>\n",
       "      <th>2002-09-06</th>\n",
       "      <td>-37.518665</td>\n",
       "      <td>48.102254</td>\n",
       "      <td>-24.482914</td>\n",
       "      <td>8.395243</td>\n",
       "    </tr>\n",
       "    <tr>\n",
       "      <th>2002-09-07</th>\n",
       "      <td>-37.606097</td>\n",
       "      <td>46.452078</td>\n",
       "      <td>-23.707126</td>\n",
       "      <td>6.608093</td>\n",
       "    </tr>\n",
       "    <tr>\n",
       "      <th>2002-09-08</th>\n",
       "      <td>-35.288613</td>\n",
       "      <td>46.326389</td>\n",
       "      <td>-22.593041</td>\n",
       "      <td>8.108061</td>\n",
       "    </tr>\n",
       "    <tr>\n",
       "      <th>2002-09-09</th>\n",
       "      <td>-35.504313</td>\n",
       "      <td>46.063195</td>\n",
       "      <td>-21.714328</td>\n",
       "      <td>6.352368</td>\n",
       "    </tr>\n",
       "    <tr>\n",
       "      <th>2002-09-10</th>\n",
       "      <td>-34.132115</td>\n",
       "      <td>45.677362</td>\n",
       "      <td>-20.229528</td>\n",
       "      <td>7.042926</td>\n",
       "    </tr>\n",
       "    <tr>\n",
       "      <th>2002-09-11</th>\n",
       "      <td>-34.552194</td>\n",
       "      <td>46.436252</td>\n",
       "      <td>-19.822362</td>\n",
       "      <td>7.681235</td>\n",
       "    </tr>\n",
       "    <tr>\n",
       "      <th>2002-09-12</th>\n",
       "      <td>-34.528788</td>\n",
       "      <td>46.112772</td>\n",
       "      <td>-19.657745</td>\n",
       "      <td>7.271507</td>\n",
       "    </tr>\n",
       "    <tr>\n",
       "      <th>2002-09-13</th>\n",
       "      <td>-35.677065</td>\n",
       "      <td>45.477709</td>\n",
       "      <td>-19.765154</td>\n",
       "      <td>7.545541</td>\n",
       "    </tr>\n",
       "    <tr>\n",
       "      <th>2002-09-14</th>\n",
       "      <td>-36.927066</td>\n",
       "      <td>44.265280</td>\n",
       "      <td>-19.669482</td>\n",
       "      <td>7.037058</td>\n",
       "    </tr>\n",
       "    <tr>\n",
       "      <th>2002-09-15</th>\n",
       "      <td>-38.380816</td>\n",
       "      <td>43.109502</td>\n",
       "      <td>-20.083948</td>\n",
       "      <td>7.784013</td>\n",
       "    </tr>\n",
       "    <tr>\n",
       "      <th>2002-09-16</th>\n",
       "      <td>-40.369723</td>\n",
       "      <td>43.810145</td>\n",
       "      <td>-19.289316</td>\n",
       "      <td>8.045580</td>\n",
       "    </tr>\n",
       "    <tr>\n",
       "      <th>2002-09-17</th>\n",
       "      <td>-40.840682</td>\n",
       "      <td>44.068898</td>\n",
       "      <td>-18.289180</td>\n",
       "      <td>7.437628</td>\n",
       "    </tr>\n",
       "    <tr>\n",
       "      <th>2002-09-18</th>\n",
       "      <td>-40.447340</td>\n",
       "      <td>43.763993</td>\n",
       "      <td>-19.128442</td>\n",
       "      <td>6.082166</td>\n",
       "    </tr>\n",
       "    <tr>\n",
       "      <th>2002-09-19</th>\n",
       "      <td>-39.985592</td>\n",
       "      <td>44.093663</td>\n",
       "      <td>-18.343789</td>\n",
       "      <td>6.166883</td>\n",
       "    </tr>\n",
       "    <tr>\n",
       "      <th>2002-09-20</th>\n",
       "      <td>-39.781121</td>\n",
       "      <td>43.827025</td>\n",
       "      <td>-17.341196</td>\n",
       "      <td>4.917904</td>\n",
       "    </tr>\n",
       "    <tr>\n",
       "      <th>2002-09-21</th>\n",
       "      <td>-40.227333</td>\n",
       "      <td>44.088042</td>\n",
       "      <td>-16.923924</td>\n",
       "      <td>4.617459</td>\n",
       "    </tr>\n",
       "    <tr>\n",
       "      <th>2002-09-22</th>\n",
       "      <td>-39.542473</td>\n",
       "      <td>44.676736</td>\n",
       "      <td>-16.070292</td>\n",
       "      <td>5.939153</td>\n",
       "    </tr>\n",
       "    <tr>\n",
       "      <th>2002-09-23</th>\n",
       "      <td>-38.442232</td>\n",
       "      <td>43.731582</td>\n",
       "      <td>-17.640761</td>\n",
       "      <td>5.390695</td>\n",
       "    </tr>\n",
       "    <tr>\n",
       "      <th>2002-09-24</th>\n",
       "      <td>-37.755640</td>\n",
       "      <td>43.361570</td>\n",
       "      <td>-16.332876</td>\n",
       "      <td>5.545799</td>\n",
       "    </tr>\n",
       "    <tr>\n",
       "      <th>2002-09-25</th>\n",
       "      <td>-38.287645</td>\n",
       "      <td>43.900118</td>\n",
       "      <td>-17.394499</td>\n",
       "      <td>6.255483</td>\n",
       "    </tr>\n",
       "    <tr>\n",
       "      <th>2002-09-26</th>\n",
       "      <td>-38.282297</td>\n",
       "      <td>44.347473</td>\n",
       "      <td>-18.397410</td>\n",
       "      <td>5.114015</td>\n",
       "    </tr>\n",
       "  </tbody>\n",
       "</table>\n",
       "<p>1000 rows × 4 columns</p>\n",
       "</div>"
      ],
      "text/plain": [
       "                    A          B          C         D\n",
       "2000-01-01  -2.048623  -0.223668   1.959406 -1.313593\n",
       "2000-01-02  -3.372663  -2.317316   1.211092 -0.963307\n",
       "2000-01-03  -3.823716  -1.117382  -0.151371 -1.175526\n",
       "2000-01-04  -2.022191  -1.700453   0.672747 -1.459087\n",
       "2000-01-05  -2.552789  -1.949926   1.073234 -2.263618\n",
       "2000-01-06  -3.073303  -2.512801   1.866388 -0.679164\n",
       "2000-01-07  -4.326215  -3.561859   2.298682  1.611832\n",
       "2000-01-08  -3.397108  -3.656333   1.591028  0.418104\n",
       "2000-01-09  -5.507013  -4.113969   2.220965  0.950688\n",
       "2000-01-10  -4.333515  -5.212221   2.369454 -0.225886\n",
       "2000-01-11  -5.879255  -5.629167   0.809685 -1.337165\n",
       "2000-01-12  -6.470240  -4.528863   0.763979 -0.151709\n",
       "2000-01-13  -7.939520  -6.162052   0.085512 -0.243993\n",
       "2000-01-14  -8.976141  -4.053676  -0.380365  0.176886\n",
       "2000-01-15  -9.405895  -5.706344  -1.517499  0.173095\n",
       "2000-01-16  -8.737125  -6.416109  -0.864668  0.744544\n",
       "2000-01-17  -9.569208  -4.694137  -0.952732 -0.082818\n",
       "2000-01-18  -8.170540  -5.291550  -1.486927  1.443502\n",
       "2000-01-19  -7.563857  -6.892772  -0.825273  2.558420\n",
       "2000-01-20  -7.454708  -6.337941  -0.599532  1.136231\n",
       "2000-01-21  -7.183032  -5.840788   1.195520  2.661975\n",
       "2000-01-22  -4.414759  -5.227352   0.700115  2.633301\n",
       "2000-01-23  -4.325336  -4.143925   2.768694  3.390356\n",
       "2000-01-24  -2.442899  -2.950792   3.022909  3.377566\n",
       "2000-01-25  -3.334453  -3.102322   4.697247  2.422407\n",
       "2000-01-26  -3.950190  -3.247735   4.024472  2.364064\n",
       "2000-01-27  -4.512846  -3.396593   2.985019  2.888522\n",
       "2000-01-28  -4.903918  -2.865670   3.029914  3.958151\n",
       "2000-01-29  -2.633348  -2.689393   2.866435  2.970712\n",
       "2000-01-30  -4.489836  -1.219307   3.321451  3.052958\n",
       "...               ...        ...        ...       ...\n",
       "2002-08-28 -33.114665  52.490770 -24.134385  4.749267\n",
       "2002-08-29 -32.815463  52.181030 -25.075872  5.897609\n",
       "2002-08-30 -32.060344  51.640038 -23.856303  7.333669\n",
       "2002-08-31 -32.977334  50.907724 -22.458731  7.413404\n",
       "2002-09-01 -33.973944  50.002960 -22.388717  7.405677\n",
       "2002-09-02 -33.772266  50.210193 -23.126930  9.419117\n",
       "2002-09-03 -33.943813  49.971940 -22.260697  8.211787\n",
       "2002-09-04 -35.453310  49.855384 -23.307238  8.763933\n",
       "2002-09-05 -35.449634  49.148502 -23.508024  9.278532\n",
       "2002-09-06 -37.518665  48.102254 -24.482914  8.395243\n",
       "2002-09-07 -37.606097  46.452078 -23.707126  6.608093\n",
       "2002-09-08 -35.288613  46.326389 -22.593041  8.108061\n",
       "2002-09-09 -35.504313  46.063195 -21.714328  6.352368\n",
       "2002-09-10 -34.132115  45.677362 -20.229528  7.042926\n",
       "2002-09-11 -34.552194  46.436252 -19.822362  7.681235\n",
       "2002-09-12 -34.528788  46.112772 -19.657745  7.271507\n",
       "2002-09-13 -35.677065  45.477709 -19.765154  7.545541\n",
       "2002-09-14 -36.927066  44.265280 -19.669482  7.037058\n",
       "2002-09-15 -38.380816  43.109502 -20.083948  7.784013\n",
       "2002-09-16 -40.369723  43.810145 -19.289316  8.045580\n",
       "2002-09-17 -40.840682  44.068898 -18.289180  7.437628\n",
       "2002-09-18 -40.447340  43.763993 -19.128442  6.082166\n",
       "2002-09-19 -39.985592  44.093663 -18.343789  6.166883\n",
       "2002-09-20 -39.781121  43.827025 -17.341196  4.917904\n",
       "2002-09-21 -40.227333  44.088042 -16.923924  4.617459\n",
       "2002-09-22 -39.542473  44.676736 -16.070292  5.939153\n",
       "2002-09-23 -38.442232  43.731582 -17.640761  5.390695\n",
       "2002-09-24 -37.755640  43.361570 -16.332876  5.545799\n",
       "2002-09-25 -38.287645  43.900118 -17.394499  6.255483\n",
       "2002-09-26 -38.282297  44.347473 -18.397410  5.114015\n",
       "\n",
       "[1000 rows x 4 columns]"
      ]
     },
     "execution_count": 57,
     "metadata": {},
     "output_type": "execute_result"
    }
   ],
   "source": [
    "pd.read_csv('foo.csv', index_col=0)"
   ]
  },
  {
   "cell_type": "markdown",
   "metadata": {
    "_cell_guid": "577ea484-5412-4e56-bce9-e7ac085f43e7",
    "_uuid": "1ed3197b98a526670ad2e5fc2fd3d783f4aa26df"
   },
   "source": [
    "### Excel\n",
    "Reading and writing to [MS Excel](https://pandas.pydata.org/pandas-docs/stable/io.html#io-excel).\n",
    "\n",
    "Writing to an excel file:"
   ]
  },
  {
   "cell_type": "code",
   "execution_count": 58,
   "metadata": {
    "_cell_guid": "56ebcc49-1c6e-4fba-b0be-885bd38c8edd",
    "_uuid": "b4aa25c0d51d6981aefeb56d369f73892d89bf75"
   },
   "outputs": [],
   "source": [
    "df.to_excel('foo.xlsx', sheet_name='Sheet1')"
   ]
  },
  {
   "cell_type": "markdown",
   "metadata": {
    "_cell_guid": "516aeff5-882d-464f-a4a8-23c39a9faa78",
    "_uuid": "53c3b30580b3f53be31cf66c379f0a930b5ebe6d"
   },
   "source": [
    "Reading from an excel file:"
   ]
  },
  {
   "cell_type": "code",
   "execution_count": 59,
   "metadata": {
    "_cell_guid": "7d1fb689-56d4-4ebf-bf7e-775f55268861",
    "_uuid": "80517bdf809673c3b298888c8b2e0835e1f862dc"
   },
   "outputs": [
    {
     "data": {
      "text/html": [
       "<div>\n",
       "<style scoped>\n",
       "    .dataframe tbody tr th:only-of-type {\n",
       "        vertical-align: middle;\n",
       "    }\n",
       "\n",
       "    .dataframe tbody tr th {\n",
       "        vertical-align: top;\n",
       "    }\n",
       "\n",
       "    .dataframe thead th {\n",
       "        text-align: right;\n",
       "    }\n",
       "</style>\n",
       "<table border=\"1\" class=\"dataframe\">\n",
       "  <thead>\n",
       "    <tr style=\"text-align: right;\">\n",
       "      <th></th>\n",
       "      <th>A</th>\n",
       "      <th>B</th>\n",
       "      <th>C</th>\n",
       "      <th>D</th>\n",
       "    </tr>\n",
       "  </thead>\n",
       "  <tbody>\n",
       "    <tr>\n",
       "      <th>2000-01-01</th>\n",
       "      <td>-2.048623</td>\n",
       "      <td>-0.223668</td>\n",
       "      <td>1.959406</td>\n",
       "      <td>-1.313593</td>\n",
       "    </tr>\n",
       "    <tr>\n",
       "      <th>2000-01-02</th>\n",
       "      <td>-3.372663</td>\n",
       "      <td>-2.317316</td>\n",
       "      <td>1.211092</td>\n",
       "      <td>-0.963307</td>\n",
       "    </tr>\n",
       "    <tr>\n",
       "      <th>2000-01-03</th>\n",
       "      <td>-3.823716</td>\n",
       "      <td>-1.117382</td>\n",
       "      <td>-0.151371</td>\n",
       "      <td>-1.175526</td>\n",
       "    </tr>\n",
       "    <tr>\n",
       "      <th>2000-01-04</th>\n",
       "      <td>-2.022191</td>\n",
       "      <td>-1.700453</td>\n",
       "      <td>0.672747</td>\n",
       "      <td>-1.459087</td>\n",
       "    </tr>\n",
       "    <tr>\n",
       "      <th>2000-01-05</th>\n",
       "      <td>-2.552789</td>\n",
       "      <td>-1.949926</td>\n",
       "      <td>1.073234</td>\n",
       "      <td>-2.263618</td>\n",
       "    </tr>\n",
       "    <tr>\n",
       "      <th>2000-01-06</th>\n",
       "      <td>-3.073303</td>\n",
       "      <td>-2.512801</td>\n",
       "      <td>1.866388</td>\n",
       "      <td>-0.679164</td>\n",
       "    </tr>\n",
       "    <tr>\n",
       "      <th>2000-01-07</th>\n",
       "      <td>-4.326215</td>\n",
       "      <td>-3.561859</td>\n",
       "      <td>2.298682</td>\n",
       "      <td>1.611832</td>\n",
       "    </tr>\n",
       "    <tr>\n",
       "      <th>2000-01-08</th>\n",
       "      <td>-3.397108</td>\n",
       "      <td>-3.656333</td>\n",
       "      <td>1.591028</td>\n",
       "      <td>0.418104</td>\n",
       "    </tr>\n",
       "    <tr>\n",
       "      <th>2000-01-09</th>\n",
       "      <td>-5.507013</td>\n",
       "      <td>-4.113969</td>\n",
       "      <td>2.220965</td>\n",
       "      <td>0.950688</td>\n",
       "    </tr>\n",
       "    <tr>\n",
       "      <th>2000-01-10</th>\n",
       "      <td>-4.333515</td>\n",
       "      <td>-5.212221</td>\n",
       "      <td>2.369454</td>\n",
       "      <td>-0.225886</td>\n",
       "    </tr>\n",
       "    <tr>\n",
       "      <th>2000-01-11</th>\n",
       "      <td>-5.879255</td>\n",
       "      <td>-5.629167</td>\n",
       "      <td>0.809685</td>\n",
       "      <td>-1.337165</td>\n",
       "    </tr>\n",
       "    <tr>\n",
       "      <th>2000-01-12</th>\n",
       "      <td>-6.470240</td>\n",
       "      <td>-4.528863</td>\n",
       "      <td>0.763979</td>\n",
       "      <td>-0.151709</td>\n",
       "    </tr>\n",
       "    <tr>\n",
       "      <th>2000-01-13</th>\n",
       "      <td>-7.939520</td>\n",
       "      <td>-6.162052</td>\n",
       "      <td>0.085512</td>\n",
       "      <td>-0.243993</td>\n",
       "    </tr>\n",
       "    <tr>\n",
       "      <th>2000-01-14</th>\n",
       "      <td>-8.976141</td>\n",
       "      <td>-4.053676</td>\n",
       "      <td>-0.380365</td>\n",
       "      <td>0.176886</td>\n",
       "    </tr>\n",
       "    <tr>\n",
       "      <th>2000-01-15</th>\n",
       "      <td>-9.405895</td>\n",
       "      <td>-5.706344</td>\n",
       "      <td>-1.517499</td>\n",
       "      <td>0.173095</td>\n",
       "    </tr>\n",
       "    <tr>\n",
       "      <th>2000-01-16</th>\n",
       "      <td>-8.737125</td>\n",
       "      <td>-6.416109</td>\n",
       "      <td>-0.864668</td>\n",
       "      <td>0.744544</td>\n",
       "    </tr>\n",
       "    <tr>\n",
       "      <th>2000-01-17</th>\n",
       "      <td>-9.569208</td>\n",
       "      <td>-4.694137</td>\n",
       "      <td>-0.952732</td>\n",
       "      <td>-0.082818</td>\n",
       "    </tr>\n",
       "    <tr>\n",
       "      <th>2000-01-18</th>\n",
       "      <td>-8.170540</td>\n",
       "      <td>-5.291550</td>\n",
       "      <td>-1.486927</td>\n",
       "      <td>1.443502</td>\n",
       "    </tr>\n",
       "    <tr>\n",
       "      <th>2000-01-19</th>\n",
       "      <td>-7.563857</td>\n",
       "      <td>-6.892772</td>\n",
       "      <td>-0.825273</td>\n",
       "      <td>2.558420</td>\n",
       "    </tr>\n",
       "    <tr>\n",
       "      <th>2000-01-20</th>\n",
       "      <td>-7.454708</td>\n",
       "      <td>-6.337941</td>\n",
       "      <td>-0.599532</td>\n",
       "      <td>1.136231</td>\n",
       "    </tr>\n",
       "    <tr>\n",
       "      <th>2000-01-21</th>\n",
       "      <td>-7.183032</td>\n",
       "      <td>-5.840788</td>\n",
       "      <td>1.195520</td>\n",
       "      <td>2.661975</td>\n",
       "    </tr>\n",
       "    <tr>\n",
       "      <th>2000-01-22</th>\n",
       "      <td>-4.414759</td>\n",
       "      <td>-5.227352</td>\n",
       "      <td>0.700115</td>\n",
       "      <td>2.633301</td>\n",
       "    </tr>\n",
       "    <tr>\n",
       "      <th>2000-01-23</th>\n",
       "      <td>-4.325336</td>\n",
       "      <td>-4.143925</td>\n",
       "      <td>2.768694</td>\n",
       "      <td>3.390356</td>\n",
       "    </tr>\n",
       "    <tr>\n",
       "      <th>2000-01-24</th>\n",
       "      <td>-2.442899</td>\n",
       "      <td>-2.950792</td>\n",
       "      <td>3.022909</td>\n",
       "      <td>3.377566</td>\n",
       "    </tr>\n",
       "    <tr>\n",
       "      <th>2000-01-25</th>\n",
       "      <td>-3.334453</td>\n",
       "      <td>-3.102322</td>\n",
       "      <td>4.697247</td>\n",
       "      <td>2.422407</td>\n",
       "    </tr>\n",
       "    <tr>\n",
       "      <th>2000-01-26</th>\n",
       "      <td>-3.950190</td>\n",
       "      <td>-3.247735</td>\n",
       "      <td>4.024472</td>\n",
       "      <td>2.364064</td>\n",
       "    </tr>\n",
       "    <tr>\n",
       "      <th>2000-01-27</th>\n",
       "      <td>-4.512846</td>\n",
       "      <td>-3.396593</td>\n",
       "      <td>2.985019</td>\n",
       "      <td>2.888522</td>\n",
       "    </tr>\n",
       "    <tr>\n",
       "      <th>2000-01-28</th>\n",
       "      <td>-4.903918</td>\n",
       "      <td>-2.865670</td>\n",
       "      <td>3.029914</td>\n",
       "      <td>3.958151</td>\n",
       "    </tr>\n",
       "    <tr>\n",
       "      <th>2000-01-29</th>\n",
       "      <td>-2.633348</td>\n",
       "      <td>-2.689393</td>\n",
       "      <td>2.866435</td>\n",
       "      <td>2.970712</td>\n",
       "    </tr>\n",
       "    <tr>\n",
       "      <th>2000-01-30</th>\n",
       "      <td>-4.489836</td>\n",
       "      <td>-1.219307</td>\n",
       "      <td>3.321451</td>\n",
       "      <td>3.052958</td>\n",
       "    </tr>\n",
       "    <tr>\n",
       "      <th>...</th>\n",
       "      <td>...</td>\n",
       "      <td>...</td>\n",
       "      <td>...</td>\n",
       "      <td>...</td>\n",
       "    </tr>\n",
       "    <tr>\n",
       "      <th>2002-08-28</th>\n",
       "      <td>-33.114665</td>\n",
       "      <td>52.490770</td>\n",
       "      <td>-24.134385</td>\n",
       "      <td>4.749267</td>\n",
       "    </tr>\n",
       "    <tr>\n",
       "      <th>2002-08-29</th>\n",
       "      <td>-32.815463</td>\n",
       "      <td>52.181030</td>\n",
       "      <td>-25.075872</td>\n",
       "      <td>5.897609</td>\n",
       "    </tr>\n",
       "    <tr>\n",
       "      <th>2002-08-30</th>\n",
       "      <td>-32.060344</td>\n",
       "      <td>51.640038</td>\n",
       "      <td>-23.856303</td>\n",
       "      <td>7.333669</td>\n",
       "    </tr>\n",
       "    <tr>\n",
       "      <th>2002-08-31</th>\n",
       "      <td>-32.977334</td>\n",
       "      <td>50.907724</td>\n",
       "      <td>-22.458731</td>\n",
       "      <td>7.413404</td>\n",
       "    </tr>\n",
       "    <tr>\n",
       "      <th>2002-09-01</th>\n",
       "      <td>-33.973944</td>\n",
       "      <td>50.002960</td>\n",
       "      <td>-22.388717</td>\n",
       "      <td>7.405677</td>\n",
       "    </tr>\n",
       "    <tr>\n",
       "      <th>2002-09-02</th>\n",
       "      <td>-33.772266</td>\n",
       "      <td>50.210193</td>\n",
       "      <td>-23.126930</td>\n",
       "      <td>9.419117</td>\n",
       "    </tr>\n",
       "    <tr>\n",
       "      <th>2002-09-03</th>\n",
       "      <td>-33.943813</td>\n",
       "      <td>49.971940</td>\n",
       "      <td>-22.260697</td>\n",
       "      <td>8.211787</td>\n",
       "    </tr>\n",
       "    <tr>\n",
       "      <th>2002-09-04</th>\n",
       "      <td>-35.453310</td>\n",
       "      <td>49.855384</td>\n",
       "      <td>-23.307238</td>\n",
       "      <td>8.763933</td>\n",
       "    </tr>\n",
       "    <tr>\n",
       "      <th>2002-09-05</th>\n",
       "      <td>-35.449634</td>\n",
       "      <td>49.148502</td>\n",
       "      <td>-23.508024</td>\n",
       "      <td>9.278532</td>\n",
       "    </tr>\n",
       "    <tr>\n",
       "      <th>2002-09-06</th>\n",
       "      <td>-37.518665</td>\n",
       "      <td>48.102254</td>\n",
       "      <td>-24.482914</td>\n",
       "      <td>8.395243</td>\n",
       "    </tr>\n",
       "    <tr>\n",
       "      <th>2002-09-07</th>\n",
       "      <td>-37.606097</td>\n",
       "      <td>46.452078</td>\n",
       "      <td>-23.707126</td>\n",
       "      <td>6.608093</td>\n",
       "    </tr>\n",
       "    <tr>\n",
       "      <th>2002-09-08</th>\n",
       "      <td>-35.288613</td>\n",
       "      <td>46.326389</td>\n",
       "      <td>-22.593041</td>\n",
       "      <td>8.108061</td>\n",
       "    </tr>\n",
       "    <tr>\n",
       "      <th>2002-09-09</th>\n",
       "      <td>-35.504313</td>\n",
       "      <td>46.063195</td>\n",
       "      <td>-21.714328</td>\n",
       "      <td>6.352368</td>\n",
       "    </tr>\n",
       "    <tr>\n",
       "      <th>2002-09-10</th>\n",
       "      <td>-34.132115</td>\n",
       "      <td>45.677362</td>\n",
       "      <td>-20.229528</td>\n",
       "      <td>7.042926</td>\n",
       "    </tr>\n",
       "    <tr>\n",
       "      <th>2002-09-11</th>\n",
       "      <td>-34.552194</td>\n",
       "      <td>46.436252</td>\n",
       "      <td>-19.822362</td>\n",
       "      <td>7.681235</td>\n",
       "    </tr>\n",
       "    <tr>\n",
       "      <th>2002-09-12</th>\n",
       "      <td>-34.528788</td>\n",
       "      <td>46.112772</td>\n",
       "      <td>-19.657745</td>\n",
       "      <td>7.271507</td>\n",
       "    </tr>\n",
       "    <tr>\n",
       "      <th>2002-09-13</th>\n",
       "      <td>-35.677065</td>\n",
       "      <td>45.477709</td>\n",
       "      <td>-19.765154</td>\n",
       "      <td>7.545541</td>\n",
       "    </tr>\n",
       "    <tr>\n",
       "      <th>2002-09-14</th>\n",
       "      <td>-36.927066</td>\n",
       "      <td>44.265280</td>\n",
       "      <td>-19.669482</td>\n",
       "      <td>7.037058</td>\n",
       "    </tr>\n",
       "    <tr>\n",
       "      <th>2002-09-15</th>\n",
       "      <td>-38.380816</td>\n",
       "      <td>43.109502</td>\n",
       "      <td>-20.083948</td>\n",
       "      <td>7.784013</td>\n",
       "    </tr>\n",
       "    <tr>\n",
       "      <th>2002-09-16</th>\n",
       "      <td>-40.369723</td>\n",
       "      <td>43.810145</td>\n",
       "      <td>-19.289316</td>\n",
       "      <td>8.045580</td>\n",
       "    </tr>\n",
       "    <tr>\n",
       "      <th>2002-09-17</th>\n",
       "      <td>-40.840682</td>\n",
       "      <td>44.068898</td>\n",
       "      <td>-18.289180</td>\n",
       "      <td>7.437628</td>\n",
       "    </tr>\n",
       "    <tr>\n",
       "      <th>2002-09-18</th>\n",
       "      <td>-40.447340</td>\n",
       "      <td>43.763993</td>\n",
       "      <td>-19.128442</td>\n",
       "      <td>6.082166</td>\n",
       "    </tr>\n",
       "    <tr>\n",
       "      <th>2002-09-19</th>\n",
       "      <td>-39.985592</td>\n",
       "      <td>44.093663</td>\n",
       "      <td>-18.343789</td>\n",
       "      <td>6.166883</td>\n",
       "    </tr>\n",
       "    <tr>\n",
       "      <th>2002-09-20</th>\n",
       "      <td>-39.781121</td>\n",
       "      <td>43.827025</td>\n",
       "      <td>-17.341196</td>\n",
       "      <td>4.917904</td>\n",
       "    </tr>\n",
       "    <tr>\n",
       "      <th>2002-09-21</th>\n",
       "      <td>-40.227333</td>\n",
       "      <td>44.088042</td>\n",
       "      <td>-16.923924</td>\n",
       "      <td>4.617459</td>\n",
       "    </tr>\n",
       "    <tr>\n",
       "      <th>2002-09-22</th>\n",
       "      <td>-39.542473</td>\n",
       "      <td>44.676736</td>\n",
       "      <td>-16.070292</td>\n",
       "      <td>5.939153</td>\n",
       "    </tr>\n",
       "    <tr>\n",
       "      <th>2002-09-23</th>\n",
       "      <td>-38.442232</td>\n",
       "      <td>43.731582</td>\n",
       "      <td>-17.640761</td>\n",
       "      <td>5.390695</td>\n",
       "    </tr>\n",
       "    <tr>\n",
       "      <th>2002-09-24</th>\n",
       "      <td>-37.755640</td>\n",
       "      <td>43.361570</td>\n",
       "      <td>-16.332876</td>\n",
       "      <td>5.545799</td>\n",
       "    </tr>\n",
       "    <tr>\n",
       "      <th>2002-09-25</th>\n",
       "      <td>-38.287645</td>\n",
       "      <td>43.900118</td>\n",
       "      <td>-17.394499</td>\n",
       "      <td>6.255483</td>\n",
       "    </tr>\n",
       "    <tr>\n",
       "      <th>2002-09-26</th>\n",
       "      <td>-38.282297</td>\n",
       "      <td>44.347473</td>\n",
       "      <td>-18.397410</td>\n",
       "      <td>5.114015</td>\n",
       "    </tr>\n",
       "  </tbody>\n",
       "</table>\n",
       "<p>1000 rows × 4 columns</p>\n",
       "</div>"
      ],
      "text/plain": [
       "                    A          B          C         D\n",
       "2000-01-01  -2.048623  -0.223668   1.959406 -1.313593\n",
       "2000-01-02  -3.372663  -2.317316   1.211092 -0.963307\n",
       "2000-01-03  -3.823716  -1.117382  -0.151371 -1.175526\n",
       "2000-01-04  -2.022191  -1.700453   0.672747 -1.459087\n",
       "2000-01-05  -2.552789  -1.949926   1.073234 -2.263618\n",
       "2000-01-06  -3.073303  -2.512801   1.866388 -0.679164\n",
       "2000-01-07  -4.326215  -3.561859   2.298682  1.611832\n",
       "2000-01-08  -3.397108  -3.656333   1.591028  0.418104\n",
       "2000-01-09  -5.507013  -4.113969   2.220965  0.950688\n",
       "2000-01-10  -4.333515  -5.212221   2.369454 -0.225886\n",
       "2000-01-11  -5.879255  -5.629167   0.809685 -1.337165\n",
       "2000-01-12  -6.470240  -4.528863   0.763979 -0.151709\n",
       "2000-01-13  -7.939520  -6.162052   0.085512 -0.243993\n",
       "2000-01-14  -8.976141  -4.053676  -0.380365  0.176886\n",
       "2000-01-15  -9.405895  -5.706344  -1.517499  0.173095\n",
       "2000-01-16  -8.737125  -6.416109  -0.864668  0.744544\n",
       "2000-01-17  -9.569208  -4.694137  -0.952732 -0.082818\n",
       "2000-01-18  -8.170540  -5.291550  -1.486927  1.443502\n",
       "2000-01-19  -7.563857  -6.892772  -0.825273  2.558420\n",
       "2000-01-20  -7.454708  -6.337941  -0.599532  1.136231\n",
       "2000-01-21  -7.183032  -5.840788   1.195520  2.661975\n",
       "2000-01-22  -4.414759  -5.227352   0.700115  2.633301\n",
       "2000-01-23  -4.325336  -4.143925   2.768694  3.390356\n",
       "2000-01-24  -2.442899  -2.950792   3.022909  3.377566\n",
       "2000-01-25  -3.334453  -3.102322   4.697247  2.422407\n",
       "2000-01-26  -3.950190  -3.247735   4.024472  2.364064\n",
       "2000-01-27  -4.512846  -3.396593   2.985019  2.888522\n",
       "2000-01-28  -4.903918  -2.865670   3.029914  3.958151\n",
       "2000-01-29  -2.633348  -2.689393   2.866435  2.970712\n",
       "2000-01-30  -4.489836  -1.219307   3.321451  3.052958\n",
       "...               ...        ...        ...       ...\n",
       "2002-08-28 -33.114665  52.490770 -24.134385  4.749267\n",
       "2002-08-29 -32.815463  52.181030 -25.075872  5.897609\n",
       "2002-08-30 -32.060344  51.640038 -23.856303  7.333669\n",
       "2002-08-31 -32.977334  50.907724 -22.458731  7.413404\n",
       "2002-09-01 -33.973944  50.002960 -22.388717  7.405677\n",
       "2002-09-02 -33.772266  50.210193 -23.126930  9.419117\n",
       "2002-09-03 -33.943813  49.971940 -22.260697  8.211787\n",
       "2002-09-04 -35.453310  49.855384 -23.307238  8.763933\n",
       "2002-09-05 -35.449634  49.148502 -23.508024  9.278532\n",
       "2002-09-06 -37.518665  48.102254 -24.482914  8.395243\n",
       "2002-09-07 -37.606097  46.452078 -23.707126  6.608093\n",
       "2002-09-08 -35.288613  46.326389 -22.593041  8.108061\n",
       "2002-09-09 -35.504313  46.063195 -21.714328  6.352368\n",
       "2002-09-10 -34.132115  45.677362 -20.229528  7.042926\n",
       "2002-09-11 -34.552194  46.436252 -19.822362  7.681235\n",
       "2002-09-12 -34.528788  46.112772 -19.657745  7.271507\n",
       "2002-09-13 -35.677065  45.477709 -19.765154  7.545541\n",
       "2002-09-14 -36.927066  44.265280 -19.669482  7.037058\n",
       "2002-09-15 -38.380816  43.109502 -20.083948  7.784013\n",
       "2002-09-16 -40.369723  43.810145 -19.289316  8.045580\n",
       "2002-09-17 -40.840682  44.068898 -18.289180  7.437628\n",
       "2002-09-18 -40.447340  43.763993 -19.128442  6.082166\n",
       "2002-09-19 -39.985592  44.093663 -18.343789  6.166883\n",
       "2002-09-20 -39.781121  43.827025 -17.341196  4.917904\n",
       "2002-09-21 -40.227333  44.088042 -16.923924  4.617459\n",
       "2002-09-22 -39.542473  44.676736 -16.070292  5.939153\n",
       "2002-09-23 -38.442232  43.731582 -17.640761  5.390695\n",
       "2002-09-24 -37.755640  43.361570 -16.332876  5.545799\n",
       "2002-09-25 -38.287645  43.900118 -17.394499  6.255483\n",
       "2002-09-26 -38.282297  44.347473 -18.397410  5.114015\n",
       "\n",
       "[1000 rows x 4 columns]"
      ]
     },
     "execution_count": 59,
     "metadata": {},
     "output_type": "execute_result"
    }
   ],
   "source": [
    "pd.read_excel('foo.xlsx', 'Sheet1', index_col=None, na_values=['NA'])"
   ]
  },
  {
   "cell_type": "markdown",
   "metadata": {},
   "source": [
    "# Titanic"
   ]
  },
  {
   "cell_type": "code",
   "execution_count": 60,
   "metadata": {},
   "outputs": [],
   "source": [
    "df = pd.read_csv('titanic.csv')"
   ]
  },
  {
   "cell_type": "code",
   "execution_count": 61,
   "metadata": {},
   "outputs": [
    {
     "data": {
      "text/plain": [
       "(891, 11)"
      ]
     },
     "execution_count": 61,
     "metadata": {},
     "output_type": "execute_result"
    }
   ],
   "source": [
    "df.shape"
   ]
  },
  {
   "cell_type": "code",
   "execution_count": 62,
   "metadata": {},
   "outputs": [
    {
     "data": {
      "text/plain": [
       "Sex\n",
       "female    0.742038\n",
       "male      0.188908\n",
       "Name: Survived, dtype: float64"
      ]
     },
     "execution_count": 62,
     "metadata": {},
     "output_type": "execute_result"
    }
   ],
   "source": [
    "df.groupby('Sex').Survived.mean().sort_values(ascending=False)"
   ]
  },
  {
   "cell_type": "code",
   "execution_count": 63,
   "metadata": {},
   "outputs": [
    {
     "data": {
      "text/plain": [
       "Age\n",
       "False    0.359638\n",
       "True     0.542373\n",
       "Name: Survived, dtype: float64"
      ]
     },
     "execution_count": 63,
     "metadata": {},
     "output_type": "execute_result"
    }
   ],
   "source": [
    "df.groupby(df.Age<18).Survived.mean()"
   ]
  }
 ],
 "metadata": {
  "kernelspec": {
   "display_name": "Python 3",
   "language": "python",
   "name": "python3"
  },
  "language_info": {
   "codemirror_mode": {
    "name": "ipython",
    "version": 3
   },
   "file_extension": ".py",
   "mimetype": "text/x-python",
   "name": "python",
   "nbconvert_exporter": "python",
   "pygments_lexer": "ipython3",
   "version": "3.7.1"
  }
 },
 "nbformat": 4,
 "nbformat_minor": 1
}
