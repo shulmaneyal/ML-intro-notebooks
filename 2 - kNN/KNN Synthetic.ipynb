{
 "cells": [
  {
   "cell_type": "code",
   "execution_count": null,
   "metadata": {},
   "outputs": [],
   "source": [
    "import numpy as np\n",
    "from sklearn.neighbors import KNeighborsClassifier\n",
    "import matplotlib.pyplot as plt\n",
    "\n",
    "params = {'legend.fontsize': 'x-large',\n",
    "         'axes.labelsize': 'x-large',\n",
    "         'axes.titlesize':'x-large',\n",
    "         'xtick.labelsize':'x-large',\n",
    "         'ytick.labelsize':'x-large'}\n",
    "plt.rcParams.update(params)\n",
    "\n",
    "\n",
    "%matplotlib inline"
   ]
  },
  {
   "cell_type": "code",
   "execution_count": null,
   "metadata": {},
   "outputs": [],
   "source": [
    "def plot_data(X, y, feature_names):\n",
    "    axis_max = abs(x).max().round() + 1\n",
    "    plt.figure(figsize=(10, 10))\n",
    "    plt.scatter(X[:, 0], X[:, 1], c=y, s=70, edgecolors='k')\n",
    "    plt.xlim(-axis_max, axis_max)\n",
    "    plt.ylim(-axis_max, axis_max)\n",
    "    plt.xlabel(feature_names[0])\n",
    "    plt.ylabel(feature_names[1])\n",
    "    plt.title('Data')\n",
    "\n",
    "def plot_decision_boundaries(X, y, clf, feature_names, resolution=0.1):\n",
    "    # Plot the decision surface\n",
    "    axis_max = abs(x).max().round() + 1\n",
    "    \n",
    "    xx1, xx2 = np.meshgrid(np.arange(-axis_max, axis_max, resolution),\n",
    "                           np.arange(-axis_max, axis_max, resolution))\n",
    "    Z = clf.predict(np.c_[xx1.ravel(), xx2.ravel()])\n",
    "    Z = Z.reshape(xx1.shape)\n",
    "    \n",
    "    plt.figure(figsize=(10, 10))\n",
    "    plt.contourf(xx1, xx2, Z, alpha=0.4)\n",
    "    \n",
    "    # Plot class sample\n",
    "    plt.scatter(X[:, 0], X[:, 1], c=y, s=70, edgecolors='k')\n",
    "    \n",
    "    plt.xlim(-axis_max, axis_max)\n",
    "    plt.ylim(-axis_max, axis_max)\n",
    "    plt.xlabel(feature_names[0])\n",
    "    plt.ylabel(feature_names[1])\n",
    "    plt.title('Nearest Neighbor')"
   ]
  },
  {
   "cell_type": "markdown",
   "metadata": {},
   "source": [
    "# 1D"
   ]
  },
  {
   "cell_type": "code",
   "execution_count": null,
   "metadata": {},
   "outputs": [],
   "source": [
    "def get_1d(n_samples, mean, variance):\n",
    "    \"\"\"\n",
    "    Returns 1-dimensional n_samples of each class (0 and 1) \n",
    "    coming from normal distribution of (mean, variance) and (-mean, variance) for classes 0 and 1 respectively\n",
    "    \"\"\"\n",
    "    k1 = np.random.multivariate_normal([-mean,0],[[variance,0],[0,0]], size=n_samples)\n",
    "    k2 = np.random.multivariate_normal([mean,0],[[variance,0],[0,0]], size=n_samples)\n",
    "    x = np.concatenate([k1,k2])\n",
    "    y = np.concatenate([np.zeros(n_samples), np.ones(n_samples)])\n",
    "    return x, y\n",
    "\n",
    "n_samples = 30\n",
    "mean = 2\n",
    "variance = 3\n",
    "x, y = get_1d(n_samples, mean, variance)\n",
    "plot_data(x, y, ['x1','x2'])"
   ]
  },
  {
   "cell_type": "code",
   "execution_count": null,
   "metadata": {},
   "outputs": [],
   "source": [
    "k = 10\n",
    "knn = KNeighborsClassifier(n_neighbors=k)\n",
    "knn.fit(x, y)\n",
    "plot_decision_boundaries(x, y, knn, ['x1','x2'])"
   ]
  },
  {
   "cell_type": "markdown",
   "metadata": {},
   "source": [
    "# 2D"
   ]
  },
  {
   "cell_type": "code",
   "execution_count": null,
   "metadata": {},
   "outputs": [],
   "source": [
    "def get_2d(n_samples, mean, variance):\n",
    "    \"\"\"\n",
    "    Returns 2-dimensional n_samples of each class (0 and 1) \n",
    "    coming from normal distribution of ((mean, mean), variance) and ((-mean, -mean), variance) \n",
    "    for classes 0 and 1 respectively\n",
    "    \"\"\"\n",
    "    k1 = np.random.multivariate_normal([-mean, -mean],[[variance,0],[0,variance]], size=n_samples)\n",
    "    k2 = np.random.multivariate_normal([mean, mean],[[variance,0],[0,variance]], size=n_samples)\n",
    "    x = np.concatenate([k1,k2])\n",
    "    y = np.concatenate([np.zeros(n_samples), np.ones(n_samples)])\n",
    "    return x, y\n",
    "    \n",
    "n_samples = 100\n",
    "mean = 1.5\n",
    "variance = 2\n",
    "x, y = get_2d(n_samples, mean, variance)\n",
    "plot_data(x, y, ['x1','x2'])"
   ]
  },
  {
   "cell_type": "code",
   "execution_count": null,
   "metadata": {},
   "outputs": [],
   "source": [
    "k = 10\n",
    "knn = KNeighborsClassifier(n_neighbors=k, p=2)\n",
    "knn.fit(x, y)\n",
    "plot_decision_boundaries(x, y, knn, ['x1','x2'])"
   ]
  }
 ],
 "metadata": {
  "kernelspec": {
   "display_name": "Python 3",
   "language": "python",
   "name": "python3"
  },
  "language_info": {
   "codemirror_mode": {
    "name": "ipython",
    "version": 3
   },
   "file_extension": ".py",
   "mimetype": "text/x-python",
   "name": "python",
   "nbconvert_exporter": "python",
   "pygments_lexer": "ipython3",
   "version": "3.7.4"
  }
 },
 "nbformat": 4,
 "nbformat_minor": 2
}
